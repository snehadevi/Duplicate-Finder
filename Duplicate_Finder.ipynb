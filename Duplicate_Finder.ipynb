{
  "nbformat": 4,
  "nbformat_minor": 0,
  "metadata": {
    "colab": {
      "name": "Duplicate Finder.ipynb",
      "provenance": [],
      "collapsed_sections": [],
      "toc_visible": true,
      "include_colab_link": true
    },
    "kernelspec": {
      "name": "python3",
      "display_name": "Python 3"
    },
    "accelerator": "GPU"
  },
  "cells": [
    {
      "cell_type": "markdown",
      "metadata": {
        "id": "view-in-github",
        "colab_type": "text"
      },
      "source": [
        "<a href=\"https://colab.research.google.com/github/snehadevi/Duplicate-Finder/blob/main/Duplicate_Finder.ipynb\" target=\"_parent\"><img src=\"https://colab.research.google.com/assets/colab-badge.svg\" alt=\"Open In Colab\"/></a>"
      ]
    },
    {
      "cell_type": "markdown",
      "metadata": {
        "id": "dvyzpBpcMQer"
      },
      "source": [
        "####INSTALLATION\n"
      ]
    },
    {
      "cell_type": "code",
      "metadata": {
        "id": "Pp4WSxKBc-zQ",
        "colab": {
          "base_uri": "https://localhost:8080/"
        },
        "outputId": "b43c9e70-7196-4b51-afda-7991d3a00e99"
      },
      "source": [
        "!pip install -q trax"
      ],
      "execution_count": 1,
      "outputs": [
        {
          "output_type": "stream",
          "text": [
            "\u001b[K     |████████████████████████████████| 522kB 9.4MB/s \n",
            "\u001b[K     |████████████████████████████████| 235kB 10.8MB/s \n",
            "\u001b[K     |████████████████████████████████| 3.4MB 19.5MB/s \n",
            "\u001b[K     |████████████████████████████████| 61kB 7.8MB/s \n",
            "\u001b[K     |████████████████████████████████| 3.8MB 53.8MB/s \n",
            "\u001b[K     |████████████████████████████████| 2.1MB 56.8MB/s \n",
            "\u001b[K     |████████████████████████████████| 1.2MB 51.4MB/s \n",
            "\u001b[K     |████████████████████████████████| 368kB 50.5MB/s \n",
            "\u001b[K     |████████████████████████████████| 870kB 53.3MB/s \n",
            "\u001b[K     |████████████████████████████████| 3.3MB 50.2MB/s \n",
            "\u001b[?25h  Building wheel for sacremoses (setup.py) ... \u001b[?25l\u001b[?25hdone\n"
          ],
          "name": "stdout"
        }
      ]
    },
    {
      "cell_type": "markdown",
      "metadata": {
        "id": "Nyt5E4SoIozs"
      },
      "source": [
        "## IMPORT"
      ]
    },
    {
      "cell_type": "code",
      "metadata": {
        "id": "3A888toxMT8k"
      },
      "source": [
        "import os\n",
        "import nltk\n",
        "import trax\n",
        "from trax import layers as tl\n",
        "from trax.supervised import training\n",
        "from trax.fastmath import numpy as fastnp\n",
        "import numpy as np\n",
        "import pandas as pd\n",
        "import random as rnd\n",
        "import matplotlib.pyplot as plt\n",
        "import seaborn as sns\n",
        "import sklearn\n",
        "from sklearn.metrics import confusion_matrix, f1_score\n",
        "from nltk.corpus import stopwords \n",
        "import re\n",
        "from nltk.stem import PorterStemmer\n",
        "%matplotlib inline\n",
        "\n",
        "#from pathlib import Path\n",
        "\n",
        "\n",
        "# set random seeds\n",
        "rnd.seed(34)"
      ],
      "execution_count": 2,
      "outputs": []
    },
    {
      "cell_type": "code",
      "metadata": {
        "id": "9cl49qxF2J_h",
        "colab": {
          "base_uri": "https://localhost:8080/"
        },
        "outputId": "c1c58649-06cc-4ad9-d1d2-c5b7f9ca43e4"
      },
      "source": [
        "nltk.download('punkt')"
      ],
      "execution_count": 3,
      "outputs": [
        {
          "output_type": "stream",
          "text": [
            "[nltk_data] Downloading package punkt to /root/nltk_data...\n",
            "[nltk_data]   Unzipping tokenizers/punkt.zip.\n"
          ],
          "name": "stdout"
        },
        {
          "output_type": "execute_result",
          "data": {
            "text/plain": [
              "True"
            ]
          },
          "metadata": {
            "tags": []
          },
          "execution_count": 3
        }
      ]
    },
    {
      "cell_type": "code",
      "metadata": {
        "id": "yV48s-w5FnbH",
        "colab": {
          "base_uri": "https://localhost:8080/"
        },
        "outputId": "37abffbc-b188-438e-ee9c-2b6f38effd1b"
      },
      "source": [
        "nltk.download('stopwords')\n",
        "stop_words = set(stopwords.words('english')) "
      ],
      "execution_count": 4,
      "outputs": [
        {
          "output_type": "stream",
          "text": [
            "[nltk_data] Downloading package stopwords to /root/nltk_data...\n",
            "[nltk_data]   Unzipping corpora/stopwords.zip.\n"
          ],
          "name": "stdout"
        }
      ]
    },
    {
      "cell_type": "markdown",
      "metadata": {
        "id": "e6qKSMcuT1qK"
      },
      "source": [
        "# DATA"
      ]
    },
    {
      "cell_type": "code",
      "metadata": {
        "id": "y4PaPrwniRsu",
        "colab": {
          "base_uri": "https://localhost:8080/"
        },
        "outputId": "67ea29b4-e43e-4c9d-d36d-c99e96d55abb"
      },
      "source": [
        "from google.colab import drive\n",
        "drive.mount('/content/drive')"
      ],
      "execution_count": 5,
      "outputs": [
        {
          "output_type": "stream",
          "text": [
            "Mounted at /content/drive\n"
          ],
          "name": "stdout"
        }
      ]
    },
    {
      "cell_type": "code",
      "metadata": {
        "id": "lsk8buocIpLX",
        "colab": {
          "base_uri": "https://localhost:8080/"
        },
        "outputId": "5b7af912-9849-4d88-d295-493a4ff70a04"
      },
      "source": [
        "%cd /content/drive/My\\ Drive/colab_data/qstn_duplicate/"
      ],
      "execution_count": 6,
      "outputs": [
        {
          "output_type": "stream",
          "text": [
            "/content/drive/My Drive/colab_data/qstn_duplicate\n"
          ],
          "name": "stdout"
        }
      ]
    },
    {
      "cell_type": "code",
      "metadata": {
        "id": "E1XPbmqtTK9P",
        "colab": {
          "base_uri": "https://localhost:8080/"
        },
        "outputId": "d6cbdf47-f2c6-408d-a2b8-ef76375e26c5"
      },
      "source": [
        "#path = Path(os.getcwd())\n",
        "data = pd.read_csv(\"questions.csv\")\n",
        "print(len(data))\n",
        "data.isnull().sum()"
      ],
      "execution_count": 7,
      "outputs": [
        {
          "output_type": "stream",
          "text": [
            "404351\n"
          ],
          "name": "stdout"
        },
        {
          "output_type": "execute_result",
          "data": {
            "text/plain": [
              "id              0\n",
              "qid1            0\n",
              "qid2            0\n",
              "question1       1\n",
              "question2       2\n",
              "is_duplicate    0\n",
              "dtype: int64"
            ]
          },
          "metadata": {
            "tags": []
          },
          "execution_count": 7
        }
      ]
    },
    {
      "cell_type": "code",
      "metadata": {
        "id": "ppBuGWsxbpLP",
        "colab": {
          "base_uri": "https://localhost:8080/",
          "height": 376
        },
        "outputId": "0d1a36f0-b9e7-4adf-ffa9-fa151b50560a"
      },
      "source": [
        "data = data.dropna()\n",
        "print(len(data))\n",
        "data.head(10)"
      ],
      "execution_count": 8,
      "outputs": [
        {
          "output_type": "stream",
          "text": [
            "404348\n"
          ],
          "name": "stdout"
        },
        {
          "output_type": "execute_result",
          "data": {
            "text/html": [
              "<div>\n",
              "<style scoped>\n",
              "    .dataframe tbody tr th:only-of-type {\n",
              "        vertical-align: middle;\n",
              "    }\n",
              "\n",
              "    .dataframe tbody tr th {\n",
              "        vertical-align: top;\n",
              "    }\n",
              "\n",
              "    .dataframe thead th {\n",
              "        text-align: right;\n",
              "    }\n",
              "</style>\n",
              "<table border=\"1\" class=\"dataframe\">\n",
              "  <thead>\n",
              "    <tr style=\"text-align: right;\">\n",
              "      <th></th>\n",
              "      <th>id</th>\n",
              "      <th>qid1</th>\n",
              "      <th>qid2</th>\n",
              "      <th>question1</th>\n",
              "      <th>question2</th>\n",
              "      <th>is_duplicate</th>\n",
              "    </tr>\n",
              "  </thead>\n",
              "  <tbody>\n",
              "    <tr>\n",
              "      <th>0</th>\n",
              "      <td>0</td>\n",
              "      <td>1</td>\n",
              "      <td>2</td>\n",
              "      <td>What is the step by step guide to invest in sh...</td>\n",
              "      <td>What is the step by step guide to invest in sh...</td>\n",
              "      <td>0</td>\n",
              "    </tr>\n",
              "    <tr>\n",
              "      <th>1</th>\n",
              "      <td>1</td>\n",
              "      <td>3</td>\n",
              "      <td>4</td>\n",
              "      <td>What is the story of Kohinoor (Koh-i-Noor) Dia...</td>\n",
              "      <td>What would happen if the Indian government sto...</td>\n",
              "      <td>0</td>\n",
              "    </tr>\n",
              "    <tr>\n",
              "      <th>2</th>\n",
              "      <td>2</td>\n",
              "      <td>5</td>\n",
              "      <td>6</td>\n",
              "      <td>How can I increase the speed of my internet co...</td>\n",
              "      <td>How can Internet speed be increased by hacking...</td>\n",
              "      <td>0</td>\n",
              "    </tr>\n",
              "    <tr>\n",
              "      <th>3</th>\n",
              "      <td>3</td>\n",
              "      <td>7</td>\n",
              "      <td>8</td>\n",
              "      <td>Why am I mentally very lonely? How can I solve...</td>\n",
              "      <td>Find the remainder when [math]23^{24}[/math] i...</td>\n",
              "      <td>0</td>\n",
              "    </tr>\n",
              "    <tr>\n",
              "      <th>4</th>\n",
              "      <td>4</td>\n",
              "      <td>9</td>\n",
              "      <td>10</td>\n",
              "      <td>Which one dissolve in water quikly sugar, salt...</td>\n",
              "      <td>Which fish would survive in salt water?</td>\n",
              "      <td>0</td>\n",
              "    </tr>\n",
              "    <tr>\n",
              "      <th>5</th>\n",
              "      <td>5</td>\n",
              "      <td>11</td>\n",
              "      <td>12</td>\n",
              "      <td>Astrology: I am a Capricorn Sun Cap moon and c...</td>\n",
              "      <td>I'm a triple Capricorn (Sun, Moon and ascendan...</td>\n",
              "      <td>1</td>\n",
              "    </tr>\n",
              "    <tr>\n",
              "      <th>6</th>\n",
              "      <td>6</td>\n",
              "      <td>13</td>\n",
              "      <td>14</td>\n",
              "      <td>Should I buy tiago?</td>\n",
              "      <td>What keeps childern active and far from phone ...</td>\n",
              "      <td>0</td>\n",
              "    </tr>\n",
              "    <tr>\n",
              "      <th>7</th>\n",
              "      <td>7</td>\n",
              "      <td>15</td>\n",
              "      <td>16</td>\n",
              "      <td>How can I be a good geologist?</td>\n",
              "      <td>What should I do to be a great geologist?</td>\n",
              "      <td>1</td>\n",
              "    </tr>\n",
              "    <tr>\n",
              "      <th>8</th>\n",
              "      <td>8</td>\n",
              "      <td>17</td>\n",
              "      <td>18</td>\n",
              "      <td>When do you use シ instead of し?</td>\n",
              "      <td>When do you use \"&amp;\" instead of \"and\"?</td>\n",
              "      <td>0</td>\n",
              "    </tr>\n",
              "    <tr>\n",
              "      <th>9</th>\n",
              "      <td>9</td>\n",
              "      <td>19</td>\n",
              "      <td>20</td>\n",
              "      <td>Motorola (company): Can I hack my Charter Moto...</td>\n",
              "      <td>How do I hack Motorola DCX3400 for free internet?</td>\n",
              "      <td>0</td>\n",
              "    </tr>\n",
              "  </tbody>\n",
              "</table>\n",
              "</div>"
            ],
            "text/plain": [
              "   id  qid1  ...                                          question2 is_duplicate\n",
              "0   0     1  ...  What is the step by step guide to invest in sh...            0\n",
              "1   1     3  ...  What would happen if the Indian government sto...            0\n",
              "2   2     5  ...  How can Internet speed be increased by hacking...            0\n",
              "3   3     7  ...  Find the remainder when [math]23^{24}[/math] i...            0\n",
              "4   4     9  ...            Which fish would survive in salt water?            0\n",
              "5   5    11  ...  I'm a triple Capricorn (Sun, Moon and ascendan...            1\n",
              "6   6    13  ...  What keeps childern active and far from phone ...            0\n",
              "7   7    15  ...          What should I do to be a great geologist?            1\n",
              "8   8    17  ...              When do you use \"&\" instead of \"and\"?            0\n",
              "9   9    19  ...  How do I hack Motorola DCX3400 for free internet?            0\n",
              "\n",
              "[10 rows x 6 columns]"
            ]
          },
          "metadata": {
            "tags": []
          },
          "execution_count": 8
        }
      ]
    },
    {
      "cell_type": "code",
      "metadata": {
        "id": "WiGrZJnFv1S7",
        "colab": {
          "base_uri": "https://localhost:8080/",
          "height": 221
        },
        "outputId": "7db81de2-d934-473a-a8b7-5c7b2f00f45b"
      },
      "source": [
        "df_pos = data.loc[(data['is_duplicate'] == 1)]\n",
        "print(len(df_pos))\n",
        "df_pos.head()"
      ],
      "execution_count": 9,
      "outputs": [
        {
          "output_type": "stream",
          "text": [
            "149306\n"
          ],
          "name": "stdout"
        },
        {
          "output_type": "execute_result",
          "data": {
            "text/html": [
              "<div>\n",
              "<style scoped>\n",
              "    .dataframe tbody tr th:only-of-type {\n",
              "        vertical-align: middle;\n",
              "    }\n",
              "\n",
              "    .dataframe tbody tr th {\n",
              "        vertical-align: top;\n",
              "    }\n",
              "\n",
              "    .dataframe thead th {\n",
              "        text-align: right;\n",
              "    }\n",
              "</style>\n",
              "<table border=\"1\" class=\"dataframe\">\n",
              "  <thead>\n",
              "    <tr style=\"text-align: right;\">\n",
              "      <th></th>\n",
              "      <th>id</th>\n",
              "      <th>qid1</th>\n",
              "      <th>qid2</th>\n",
              "      <th>question1</th>\n",
              "      <th>question2</th>\n",
              "      <th>is_duplicate</th>\n",
              "    </tr>\n",
              "  </thead>\n",
              "  <tbody>\n",
              "    <tr>\n",
              "      <th>5</th>\n",
              "      <td>5</td>\n",
              "      <td>11</td>\n",
              "      <td>12</td>\n",
              "      <td>Astrology: I am a Capricorn Sun Cap moon and c...</td>\n",
              "      <td>I'm a triple Capricorn (Sun, Moon and ascendan...</td>\n",
              "      <td>1</td>\n",
              "    </tr>\n",
              "    <tr>\n",
              "      <th>7</th>\n",
              "      <td>7</td>\n",
              "      <td>15</td>\n",
              "      <td>16</td>\n",
              "      <td>How can I be a good geologist?</td>\n",
              "      <td>What should I do to be a great geologist?</td>\n",
              "      <td>1</td>\n",
              "    </tr>\n",
              "    <tr>\n",
              "      <th>11</th>\n",
              "      <td>11</td>\n",
              "      <td>23</td>\n",
              "      <td>24</td>\n",
              "      <td>How do I read and find my YouTube comments?</td>\n",
              "      <td>How can I see all my Youtube comments?</td>\n",
              "      <td>1</td>\n",
              "    </tr>\n",
              "    <tr>\n",
              "      <th>12</th>\n",
              "      <td>12</td>\n",
              "      <td>25</td>\n",
              "      <td>26</td>\n",
              "      <td>What can make Physics easy to learn?</td>\n",
              "      <td>How can you make physics easy to learn?</td>\n",
              "      <td>1</td>\n",
              "    </tr>\n",
              "    <tr>\n",
              "      <th>13</th>\n",
              "      <td>13</td>\n",
              "      <td>27</td>\n",
              "      <td>28</td>\n",
              "      <td>What was your first sexual experience like?</td>\n",
              "      <td>What was your first sexual experience?</td>\n",
              "      <td>1</td>\n",
              "    </tr>\n",
              "  </tbody>\n",
              "</table>\n",
              "</div>"
            ],
            "text/plain": [
              "    id  qid1  ...                                          question2 is_duplicate\n",
              "5    5    11  ...  I'm a triple Capricorn (Sun, Moon and ascendan...            1\n",
              "7    7    15  ...          What should I do to be a great geologist?            1\n",
              "11  11    23  ...             How can I see all my Youtube comments?            1\n",
              "12  12    25  ...            How can you make physics easy to learn?            1\n",
              "13  13    27  ...             What was your first sexual experience?            1\n",
              "\n",
              "[5 rows x 6 columns]"
            ]
          },
          "metadata": {
            "tags": []
          },
          "execution_count": 9
        }
      ]
    },
    {
      "cell_type": "code",
      "metadata": {
        "id": "qYffxJeDzFwR",
        "colab": {
          "base_uri": "https://localhost:8080/",
          "height": 221
        },
        "outputId": "3e1f7891-5232-49d2-92fd-24fef67ee6a7"
      },
      "source": [
        "df_neg = data.loc[data['is_duplicate'] == 0 ]\n",
        "print(len(df_neg))\n",
        "df_neg.head()"
      ],
      "execution_count": 10,
      "outputs": [
        {
          "output_type": "stream",
          "text": [
            "255042\n"
          ],
          "name": "stdout"
        },
        {
          "output_type": "execute_result",
          "data": {
            "text/html": [
              "<div>\n",
              "<style scoped>\n",
              "    .dataframe tbody tr th:only-of-type {\n",
              "        vertical-align: middle;\n",
              "    }\n",
              "\n",
              "    .dataframe tbody tr th {\n",
              "        vertical-align: top;\n",
              "    }\n",
              "\n",
              "    .dataframe thead th {\n",
              "        text-align: right;\n",
              "    }\n",
              "</style>\n",
              "<table border=\"1\" class=\"dataframe\">\n",
              "  <thead>\n",
              "    <tr style=\"text-align: right;\">\n",
              "      <th></th>\n",
              "      <th>id</th>\n",
              "      <th>qid1</th>\n",
              "      <th>qid2</th>\n",
              "      <th>question1</th>\n",
              "      <th>question2</th>\n",
              "      <th>is_duplicate</th>\n",
              "    </tr>\n",
              "  </thead>\n",
              "  <tbody>\n",
              "    <tr>\n",
              "      <th>0</th>\n",
              "      <td>0</td>\n",
              "      <td>1</td>\n",
              "      <td>2</td>\n",
              "      <td>What is the step by step guide to invest in sh...</td>\n",
              "      <td>What is the step by step guide to invest in sh...</td>\n",
              "      <td>0</td>\n",
              "    </tr>\n",
              "    <tr>\n",
              "      <th>1</th>\n",
              "      <td>1</td>\n",
              "      <td>3</td>\n",
              "      <td>4</td>\n",
              "      <td>What is the story of Kohinoor (Koh-i-Noor) Dia...</td>\n",
              "      <td>What would happen if the Indian government sto...</td>\n",
              "      <td>0</td>\n",
              "    </tr>\n",
              "    <tr>\n",
              "      <th>2</th>\n",
              "      <td>2</td>\n",
              "      <td>5</td>\n",
              "      <td>6</td>\n",
              "      <td>How can I increase the speed of my internet co...</td>\n",
              "      <td>How can Internet speed be increased by hacking...</td>\n",
              "      <td>0</td>\n",
              "    </tr>\n",
              "    <tr>\n",
              "      <th>3</th>\n",
              "      <td>3</td>\n",
              "      <td>7</td>\n",
              "      <td>8</td>\n",
              "      <td>Why am I mentally very lonely? How can I solve...</td>\n",
              "      <td>Find the remainder when [math]23^{24}[/math] i...</td>\n",
              "      <td>0</td>\n",
              "    </tr>\n",
              "    <tr>\n",
              "      <th>4</th>\n",
              "      <td>4</td>\n",
              "      <td>9</td>\n",
              "      <td>10</td>\n",
              "      <td>Which one dissolve in water quikly sugar, salt...</td>\n",
              "      <td>Which fish would survive in salt water?</td>\n",
              "      <td>0</td>\n",
              "    </tr>\n",
              "  </tbody>\n",
              "</table>\n",
              "</div>"
            ],
            "text/plain": [
              "   id  qid1  ...                                          question2 is_duplicate\n",
              "0   0     1  ...  What is the step by step guide to invest in sh...            0\n",
              "1   1     3  ...  What would happen if the Indian government sto...            0\n",
              "2   2     5  ...  How can Internet speed be increased by hacking...            0\n",
              "3   3     7  ...  Find the remainder when [math]23^{24}[/math] i...            0\n",
              "4   4     9  ...            Which fish would survive in salt water?            0\n",
              "\n",
              "[5 rows x 6 columns]"
            ]
          },
          "metadata": {
            "tags": []
          },
          "execution_count": 10
        }
      ]
    },
    {
      "cell_type": "code",
      "metadata": {
        "id": "pWNT2h1Xj_35",
        "colab": {
          "base_uri": "https://localhost:8080/",
          "height": 238
        },
        "outputId": "92a03a63-698d-47dd-db25-2ec5801a8b21"
      },
      "source": [
        "N = len(df_pos) - 5000\n",
        "train_data = df_pos[:N]\n",
        "t_data = df_pos[N:]\n",
        "test_data = pd.concat([df_neg[:len(t_data)], t_data])\n",
        "print(len(train_data))\n",
        "print(len(test_data))\n",
        "#t_data.head()\n",
        "#df_neg.head()\n",
        "test_data.head()"
      ],
      "execution_count": 11,
      "outputs": [
        {
          "output_type": "stream",
          "text": [
            "144306\n",
            "10000\n"
          ],
          "name": "stdout"
        },
        {
          "output_type": "execute_result",
          "data": {
            "text/html": [
              "<div>\n",
              "<style scoped>\n",
              "    .dataframe tbody tr th:only-of-type {\n",
              "        vertical-align: middle;\n",
              "    }\n",
              "\n",
              "    .dataframe tbody tr th {\n",
              "        vertical-align: top;\n",
              "    }\n",
              "\n",
              "    .dataframe thead th {\n",
              "        text-align: right;\n",
              "    }\n",
              "</style>\n",
              "<table border=\"1\" class=\"dataframe\">\n",
              "  <thead>\n",
              "    <tr style=\"text-align: right;\">\n",
              "      <th></th>\n",
              "      <th>id</th>\n",
              "      <th>qid1</th>\n",
              "      <th>qid2</th>\n",
              "      <th>question1</th>\n",
              "      <th>question2</th>\n",
              "      <th>is_duplicate</th>\n",
              "    </tr>\n",
              "  </thead>\n",
              "  <tbody>\n",
              "    <tr>\n",
              "      <th>0</th>\n",
              "      <td>0</td>\n",
              "      <td>1</td>\n",
              "      <td>2</td>\n",
              "      <td>What is the step by step guide to invest in sh...</td>\n",
              "      <td>What is the step by step guide to invest in sh...</td>\n",
              "      <td>0</td>\n",
              "    </tr>\n",
              "    <tr>\n",
              "      <th>1</th>\n",
              "      <td>1</td>\n",
              "      <td>3</td>\n",
              "      <td>4</td>\n",
              "      <td>What is the story of Kohinoor (Koh-i-Noor) Dia...</td>\n",
              "      <td>What would happen if the Indian government sto...</td>\n",
              "      <td>0</td>\n",
              "    </tr>\n",
              "    <tr>\n",
              "      <th>2</th>\n",
              "      <td>2</td>\n",
              "      <td>5</td>\n",
              "      <td>6</td>\n",
              "      <td>How can I increase the speed of my internet co...</td>\n",
              "      <td>How can Internet speed be increased by hacking...</td>\n",
              "      <td>0</td>\n",
              "    </tr>\n",
              "    <tr>\n",
              "      <th>3</th>\n",
              "      <td>3</td>\n",
              "      <td>7</td>\n",
              "      <td>8</td>\n",
              "      <td>Why am I mentally very lonely? How can I solve...</td>\n",
              "      <td>Find the remainder when [math]23^{24}[/math] i...</td>\n",
              "      <td>0</td>\n",
              "    </tr>\n",
              "    <tr>\n",
              "      <th>4</th>\n",
              "      <td>4</td>\n",
              "      <td>9</td>\n",
              "      <td>10</td>\n",
              "      <td>Which one dissolve in water quikly sugar, salt...</td>\n",
              "      <td>Which fish would survive in salt water?</td>\n",
              "      <td>0</td>\n",
              "    </tr>\n",
              "  </tbody>\n",
              "</table>\n",
              "</div>"
            ],
            "text/plain": [
              "   id  qid1  ...                                          question2 is_duplicate\n",
              "0   0     1  ...  What is the step by step guide to invest in sh...            0\n",
              "1   1     3  ...  What would happen if the Indian government sto...            0\n",
              "2   2     5  ...  How can Internet speed be increased by hacking...            0\n",
              "3   3     7  ...  Find the remainder when [math]23^{24}[/math] i...            0\n",
              "4   4     9  ...            Which fish would survive in salt water?            0\n",
              "\n",
              "[5 rows x 6 columns]"
            ]
          },
          "metadata": {
            "tags": []
          },
          "execution_count": 11
        }
      ]
    },
    {
      "cell_type": "code",
      "metadata": {
        "id": "9TmcssHs1u8r",
        "colab": {
          "base_uri": "https://localhost:8080/"
        },
        "outputId": "51b1a4fe-3193-4c1b-b3cc-2a1e81a85546"
      },
      "source": [
        "y_test  = np.array(test_data['is_duplicate'])\n",
        "print(y_test)\n",
        "print(len(y_test))"
      ],
      "execution_count": 12,
      "outputs": [
        {
          "output_type": "stream",
          "text": [
            "[0 0 0 ... 1 1 1]\n",
            "10000\n"
          ],
          "name": "stdout"
        }
      ]
    },
    {
      "cell_type": "markdown",
      "metadata": {
        "id": "Ms7GXhcmJa3-"
      },
      "source": [
        "###DATA PROCESSING"
      ]
    },
    {
      "cell_type": "code",
      "metadata": {
        "id": "qQFHMW_ZplKZ"
      },
      "source": [
        "# duplicate_indexes = (train_data['is_duplicate']==1).to_numpy()\n",
        "# print(duplicate_indexes)\n",
        "# duplicate_indexes = [i for i,x in enumerate(duplicate_indexes) if x]\n",
        "# print(duplicate_indexes)"
      ],
      "execution_count": 13,
      "outputs": []
    },
    {
      "cell_type": "code",
      "metadata": {
        "id": "T3Bgurmaa7wp"
      },
      "source": [
        "# print(len(duplicate_indexes))"
      ],
      "execution_count": 14,
      "outputs": []
    },
    {
      "cell_type": "code",
      "metadata": {
        "id": "RJ5zXcrLp10d"
      },
      "source": [
        "def text_to_word_list(text):\n",
        "    ''' Pre process and convert texts to a list of words '''\n",
        "    text = str(text)\n",
        "    text = text.lower()\n",
        "\n",
        "    # Clean the text\n",
        "    text = re.sub(r\"[^A-Za-z0-9^,!.\\/'+-=]\", \" \", text)\n",
        "    text = re.sub(r\"what's\", \"what is \", text)\n",
        "    text = re.sub(r\"\\'s\", \" \", text)\n",
        "    text = re.sub(r\"\\'ve\", \" have \", text)\n",
        "    text = re.sub(r\"can't\", \"cannot \", text)\n",
        "    text = re.sub(r\"n't\", \" not \", text)\n",
        "    text = re.sub(r\"i'm\", \"i am \", text)\n",
        "    text = re.sub(r\"\\'re\", \" are \", text)\n",
        "    text = re.sub(r\"\\'d\", \" would \", text)\n",
        "    text = re.sub(r\"\\'ll\", \" will \", text)\n",
        "    text = re.sub(r\",\", \" \", text)\n",
        "    text = re.sub(r\"\\.\", \" \", text)\n",
        "    text = re.sub(r\"!\", \" ! \", text)\n",
        "    text = re.sub(r\"\\/\", \" \", text)\n",
        "    text = re.sub(r\"\\^\", \" ^ \", text)\n",
        "    text = re.sub(r\"\\+\", \" + \", text)\n",
        "    text = re.sub(r\"\\-\", \" - \", text)\n",
        "    text = re.sub(r\"\\=\", \" = \", text)\n",
        "    text = re.sub(r\"'\", \" \", text)\n",
        "    text = re.sub(r\"(\\d+)(k)\", r\"\\g<1>000\", text)\n",
        "    text = re.sub(r\":\", \" : \", text)\n",
        "    text = re.sub(r\" e g \", \" eg \", text)\n",
        "    text = re.sub(r\" b g \", \" bg \", text)\n",
        "    text = re.sub(r\" u s \", \" american \", text)\n",
        "    text = re.sub(r\"\\0s\", \"0\", text)\n",
        "    text = re.sub(r\" 9 11 \", \"911\", text)\n",
        "    text = re.sub(r\"e - mail\", \"email\", text)\n",
        "    text = re.sub(r\"j k\", \"jk\", text)\n",
        "    text = re.sub(r\"\\s{2,}\", \" \", text)\n",
        "\n",
        "    text = text.split()\n",
        "\n",
        "    return text"
      ],
      "execution_count": 15,
      "outputs": []
    },
    {
      "cell_type": "code",
      "metadata": {
        "id": "KGRuYiDAr803"
      },
      "source": [
        "porter = PorterStemmer()"
      ],
      "execution_count": 16,
      "outputs": []
    },
    {
      "cell_type": "code",
      "metadata": {
        "id": "gBLW5DrcspF9",
        "colab": {
          "base_uri": "https://localhost:8080/"
        },
        "outputId": "8e13561e-6892-4ba8-9aec-0b975a9d69d0"
      },
      "source": [
        "print (text_to_word_list(train_data['question1'][5]))\n",
        "print (train_data['question2'][5])"
      ],
      "execution_count": 17,
      "outputs": [
        {
          "output_type": "stream",
          "text": [
            "['astrology', ':', 'i', 'am', 'a', 'capricorn', 'sun', 'cap', 'moon', 'and', 'cap', 'rising', 'what', 'does', 'that', 'say', 'about', 'me']\n",
            "I'm a triple Capricorn (Sun, Moon and ascendant in Capricorn) What does this say about me?\n"
          ],
          "name": "stdout"
        }
      ]
    },
    {
      "cell_type": "code",
      "metadata": {
        "id": "R99zqSdK1WRq",
        "colab": {
          "base_uri": "https://localhost:8080/"
        },
        "outputId": "999f94fd-36fc-47d2-9167-24122b276c02"
      },
      "source": [
        "Q1_train_words = np.array(train_data['question1'].str.lower())\n",
        "Q2_train_words = np.array(train_data['question2'].str.lower())\n",
        "print(Q1_train_words[66424])\n",
        "print(Q2_train_words[66424])"
      ],
      "execution_count": 18,
      "outputs": [
        {
          "output_type": "stream",
          "text": [
            "which countries will support india if china attacks india?\n",
            "today if china will attack on india. which country will support india in war against of china?\n"
          ],
          "name": "stdout"
        }
      ]
    },
    {
      "cell_type": "code",
      "metadata": {
        "id": "l3K7X3e2s8kd"
      },
      "source": [
        "# Q1_train_words = np.array(train_data['question1'][duplicate_indexes])\n",
        "# Q2_train_words = np.array(train_data['question2'][duplicate_indexes])\n",
        "# print(Q1_train_words[0])\n",
        "# print(Q2_train_words[0])"
      ],
      "execution_count": 19,
      "outputs": []
    },
    {
      "cell_type": "code",
      "metadata": {
        "id": "gUkwpqoNt_cP",
        "colab": {
          "base_uri": "https://localhost:8080/"
        },
        "outputId": "27594ea3-2775-4954-a673-acbe5cd39f5a"
      },
      "source": [
        "Q1_test_words = np.array(test_data['question1'].str.lower())\n",
        "Q2_test_words = np.array(test_data['question2'].str.lower())\n",
        "print(Q1_test_words[7])\n",
        "print(Q2_test_words[7])"
      ],
      "execution_count": 20,
      "outputs": [
        {
          "output_type": "stream",
          "text": [
            "motorola (company): can i hack my charter motorolla dcx3400?\n",
            "how do i hack motorola dcx3400 for free internet?\n"
          ],
          "name": "stdout"
        }
      ]
    },
    {
      "cell_type": "code",
      "metadata": {
        "id": "PdkH5ArhzfPl"
      },
      "source": [
        "Q1_train = np.empty_like(Q1_train_words)\n",
        "Q2_train = np.empty_like(Q2_train_words)\n",
        "\n",
        "Q1_test = np.empty_like(Q1_test_words)\n",
        "Q2_test = np.empty_like(Q2_test_words)"
      ],
      "execution_count": 21,
      "outputs": []
    },
    {
      "cell_type": "code",
      "metadata": {
        "id": "5uBHJeHL1VpD",
        "colab": {
          "base_uri": "https://localhost:8080/"
        },
        "outputId": "a1dee39f-0166-4274-edee-824152f42819"
      },
      "source": [
        "\n",
        "from collections import defaultdict\n",
        "\n",
        "vocab = defaultdict(lambda: 0)\n",
        "vocab['<PAD>'] = 1\n",
        "\n",
        "for idx in range(len(Q1_train_words)):\n",
        "    Q1_train[idx] = [porter.stem(w) for w in (text_to_word_list(Q1_train_words[idx]))]\n",
        "    Q2_train[idx] = [porter.stem(w) for w in (text_to_word_list(Q2_train_words[idx]))]\n",
        "    q = Q1_train[idx] + Q2_train[idx]\n",
        "    for word in q:\n",
        "        if word not in vocab:\n",
        "            vocab[word] = len(vocab) + 1\n",
        "print('The length of the vocabulary is: ', len(vocab))\n",
        "\n",
        "#print(vocab)\n",
        "print(len(vocab))\n"
      ],
      "execution_count": 22,
      "outputs": [
        {
          "output_type": "stream",
          "text": [
            "The length of the vocabulary is:  20374\n",
            "20374\n"
          ],
          "name": "stdout"
        }
      ]
    },
    {
      "cell_type": "code",
      "metadata": {
        "id": "z1zX5HVpUrAd",
        "colab": {
          "base_uri": "https://localhost:8080/"
        },
        "outputId": "ad98e981-7d8c-423f-8511-78973d15e506"
      },
      "source": [
        "\n",
        "print(vocab['<PAD>'])\n",
        "print(vocab['astrology'])\n",
        "print(vocab['Sneha'])"
      ],
      "execution_count": 23,
      "outputs": [
        {
          "output_type": "stream",
          "text": [
            "1\n",
            "0\n",
            "0\n"
          ],
          "name": "stdout"
        }
      ]
    },
    {
      "cell_type": "code",
      "metadata": {
        "id": "9WnbmFuGUOOG"
      },
      "source": [
        "for i in range(len(Q1_test_words)):\n",
        "  Q1_test[i] = [porter.stem(w) for w in (text_to_word_list(Q1_test_words[i]))]\n",
        "  #print('q1', i, Q1_test[i])\n",
        "  Q2_test[i] = [porter.stem(w) for w in (text_to_word_list(Q2_test_words[i]))]\n",
        "  #print('q2', i, Q2_test[i])"
      ],
      "execution_count": 24,
      "outputs": []
    },
    {
      "cell_type": "code",
      "metadata": {
        "id": "ccODvUuVVOtM",
        "colab": {
          "base_uri": "https://localhost:8080/"
        },
        "outputId": "30303f35-46db-4618-a771-d2e1cc4a59ae"
      },
      "source": [
        "print('Train set length: ', len(Q1_train) ) \n",
        "print('Test set length: ', len(Q1_test) ) "
      ],
      "execution_count": 25,
      "outputs": [
        {
          "output_type": "stream",
          "text": [
            "Train set length:  144306\n",
            "Test set length:  10000\n"
          ],
          "name": "stdout"
        }
      ]
    },
    {
      "cell_type": "code",
      "metadata": {
        "id": "sNJjP788Uiah",
        "colab": {
          "base_uri": "https://localhost:8080/"
        },
        "outputId": "02430fde-4791-4d87-9faf-b0133be05a63"
      },
      "source": [
        "print(Q1_train[0])\n",
        "print(Q1_test[0])"
      ],
      "execution_count": 26,
      "outputs": [
        {
          "output_type": "stream",
          "text": [
            "['astrolog', ':', 'i', 'am', 'a', 'capricorn', 'sun', 'cap', 'moon', 'and', 'cap', 'rise', 'what', 'doe', 'that', 'say', 'about', 'me']\n",
            "['what', 'is', 'the', 'step', 'by', 'step', 'guid', 'to', 'invest', 'in', 'share', 'market', 'in', 'india']\n"
          ],
          "name": "stdout"
        }
      ]
    },
    {
      "cell_type": "markdown",
      "metadata": {
        "id": "07-dcZ3qSbWv"
      },
      "source": [
        "###CONVERTING INTO TENSOR"
      ]
    },
    {
      "cell_type": "code",
      "metadata": {
        "id": "Wd4BXm_M2Yr2"
      },
      "source": [
        "for i in range(len(Q1_train)):\n",
        "  Q1_train[i] = [vocab[word] for word in Q1_train[i]]\n",
        "  Q2_train[i] = [vocab[word] for word in Q2_train[i]]\n",
        "\n",
        "for i in range(len(Q1_test)):\n",
        "  Q1_test[i] = [vocab[word] for word in Q1_test[i]]\n",
        "  Q2_test[i] = [vocab[word] for word in Q2_test[i]]\n"
      ],
      "execution_count": 27,
      "outputs": []
    },
    {
      "cell_type": "code",
      "metadata": {
        "id": "yHSKlCN8Wzej",
        "colab": {
          "base_uri": "https://localhost:8080/"
        },
        "outputId": "1d5c8020-23e1-49c9-a473-867405982300"
      },
      "source": [
        "print(Q1_train_words[0])\n",
        "print(Q1_train[0])\n",
        "print(Q1_test_words[0])\n",
        "print(Q1_test[0])\n"
      ],
      "execution_count": 28,
      "outputs": [
        {
          "output_type": "stream",
          "text": [
            "astrology: i am a capricorn sun cap moon and cap rising...what does that say about me?\n",
            "[2, 3, 4, 5, 6, 7, 8, 9, 10, 11, 9, 12, 13, 14, 15, 16, 17, 18]\n",
            "what is the step by step guide to invest in share market in india?\n",
            "[13, 134, 66, 878, 88, 878, 4272, 30, 1080, 21, 880, 455, 21, 266]\n"
          ],
          "name": "stdout"
        }
      ]
    },
    {
      "cell_type": "code",
      "metadata": {
        "id": "SljtkR9lY7sO",
        "colab": {
          "base_uri": "https://localhost:8080/"
        },
        "outputId": "be9de447-23aa-4f4e-da2c-e30f538a1475"
      },
      "source": [
        "cut_point = int(len(Q1_train)*.9)\n",
        "training_Q1 = Q1_train[:-10000]\n",
        "training_Q2 = Q2_train[:-10000]\n",
        "\n",
        "eval_Q1 = Q1_train[-10000:]\n",
        "eval_Q2 = Q2_train[-10000:]\n",
        "\n",
        "print(len(training_Q1))\n",
        "print(len(eval_Q1))"
      ],
      "execution_count": 29,
      "outputs": [
        {
          "output_type": "stream",
          "text": [
            "134306\n",
            "10000\n"
          ],
          "name": "stdout"
        }
      ]
    },
    {
      "cell_type": "code",
      "metadata": {
        "id": "SxZTjnYsbJLb"
      },
      "source": [
        "def batch_generator(question1, question2, batch_size, pad=1, shuffle=False):\n",
        "  batch_q1 = []\n",
        "  batch_q2 = []\n",
        "  index = 0\n",
        "  shufflable_indexes = [i for i in range(len(question1))]\n",
        "  #print(shufflable_indexes)\n",
        "\n",
        "\n",
        "  if shuffle==True:\n",
        "    rnd.shuffle(shufflable_indexes)\n",
        "  \n",
        "  while True:\n",
        "    if (index >= len(question1)):\n",
        "      index = 0\n",
        "\n",
        "      if shuffle==True:\n",
        "        rnd.shuffle(shufflable_indexes)\n",
        "          \n",
        "\n",
        "    q1 = question1[shufflable_indexes[index]]\n",
        "    q2 = question2[shufflable_indexes[index]]\n",
        "\n",
        "    # print(q1)\n",
        "    # print(q2)\n",
        "\n",
        "    index += 1\n",
        "\n",
        "    batch_q1.append(q1)\n",
        "    batch_q2.append(q2)\n",
        "\n",
        "    # print(batch_q1)\n",
        "    # print(batch_q2)\n",
        "\n",
        "    if len(batch_q1)==batch_size:\n",
        "      b_q1 = []\n",
        "      b_q2 = []\n",
        "\n",
        "      max_len = max(max([len(_) for _ in batch_q1]), max([len(_) for _ in batch_q2]))\n",
        "      max_len = 2**int(np.ceil(np.log2(max_len)))\n",
        "\n",
        "      #print(max_len)\n",
        "\n",
        "      for q1, q2 in zip(batch_q1, batch_q2):\n",
        "        q1 = q1 + (max_len-len(q1)) * [pad]\n",
        "        q2 = q2 + (max_len-len(q2)) * [pad]\n",
        "\n",
        "        b_q1.append(q1)\n",
        "        b_q2.append(q2)\n",
        "\n",
        "        # print(b_q1)\n",
        "        # print(b_q2)\n",
        "\n",
        "\n",
        "      yield np.array(b_q1),  np.array(b_q2)\n",
        "      batch_q1 = []\n",
        "      batch_q2 = []\n",
        " \n"
      ],
      "execution_count": 30,
      "outputs": []
    },
    {
      "cell_type": "code",
      "metadata": {
        "id": "83_ehfz6jb72",
        "colab": {
          "base_uri": "https://localhost:8080/"
        },
        "outputId": "b421ce94-e51b-4897-84fd-bab337c7c37d"
      },
      "source": [
        "Q1 = training_Q1[:10]\n",
        "#print(Q1)\n",
        "Q2 = training_Q2[:10]\n",
        "#print(Q2)\n",
        "question1, question2 = next(batch_generator(Q1, Q2, batch_size=2))\n",
        "print(\"Question 1:\", '\\n', question1, '\\n')\n",
        "print(\"Question 2:\", '\\n', question2)"
      ],
      "execution_count": 31,
      "outputs": [
        {
          "output_type": "stream",
          "text": [
            "Question 1: \n",
            " [[ 2  3  4  5  6  7  8  9 10 11  9 12 13 14 15 16 17 18  1  1  1  1  1  1\n",
            "   1  1  1  1  1  1  1  1]\n",
            " [23 24  4 25  6 26 27  1  1  1  1  1  1  1  1  1  1  1  1  1  1  1  1  1\n",
            "   1  1  1  1  1  1  1  1]] \n",
            "\n",
            "Question 2: \n",
            " [[ 4  5  6 19  7  8 10 11 20 21  7 13 14 22 16 17 18  1  1  1  1  1  1  1\n",
            "   1  1  1  1  1  1  1  1]\n",
            " [13 28  4 29 30 25  6 31 27  1  1  1  1  1  1  1  1  1  1  1  1  1  1  1\n",
            "   1  1  1  1  1  1  1  1]]\n"
          ],
          "name": "stdout"
        }
      ]
    },
    {
      "cell_type": "markdown",
      "metadata": {
        "id": "r0Zet3VmTVFn"
      },
      "source": [
        "# MODEL"
      ]
    },
    {
      "cell_type": "code",
      "metadata": {
        "id": "vzkDNxknJOU5"
      },
      "source": [
        "def Siamese_model(vocab_size=len(vocab), d_model=128, mode='train'):\n",
        "\n",
        "  def Normalize(x):\n",
        "    return x / fastnp.sqrt(fastnp.sum(x * x, axis=-1, keepdims=True))\n",
        "\n",
        "  network = tl.Serial(\n",
        "     tl.Embedding(vocab_size, d_model),\n",
        "     tl.LSTM(d_model),\n",
        "     tl.LSTM(d_model),\n",
        "     tl.LSTM(d_model),\n",
        "     tl.Mean(axis=1),\n",
        "     tl.Fn('Normalize', lambda x: Normalize(x))\n",
        "  )\n",
        "  \n",
        "  model = tl.Parallel(network, network)\n",
        "\n",
        "  return model"
      ],
      "execution_count": 32,
      "outputs": []
    },
    {
      "cell_type": "code",
      "metadata": {
        "id": "SP9XFBozQuWO",
        "colab": {
          "base_uri": "https://localhost:8080/"
        },
        "outputId": "5b403687-0540-4368-96a5-2930b7b6e3aa"
      },
      "source": [
        "model = Siamese_model()\n",
        "print(model)"
      ],
      "execution_count": 33,
      "outputs": [
        {
          "output_type": "stream",
          "text": [
            "Parallel_in2_out2[\n",
            "  Serial[\n",
            "    Embedding_22498_128\n",
            "    LSTM_128\n",
            "    LSTM_128\n",
            "    LSTM_128\n",
            "    Mean\n",
            "    Normalize\n",
            "  ]\n",
            "  Serial[\n",
            "    Embedding_22498_128\n",
            "    LSTM_128\n",
            "    LSTM_128\n",
            "    LSTM_128\n",
            "    Mean\n",
            "    Normalize\n",
            "  ]\n",
            "]\n"
          ],
          "name": "stdout"
        }
      ]
    },
    {
      "cell_type": "code",
      "metadata": {
        "id": "qKEX2riWQ-Ix"
      },
      "source": [
        "def TripletLossFn(v1, v2, alpha = 0.25):\n",
        "\n",
        "  cosine_similarity = fastnp.dot(v1, v2.T)\n",
        "\n",
        "  batch_size = len(cosine_similarity)\n",
        "\n",
        "  positive = fastnp.diagonal(cosine_similarity)\n",
        "\n",
        "  negative_with_pos_to_neg = cosine_similarity - ( 2*fastnp.eye(batch_size))\n",
        "\n",
        "  negative_without_positive = cosine_similarity * (1 - fastnp.eye(batch_size))\n",
        "\n",
        "  closest_negative = negative_with_pos_to_neg.max(axis=1)\n",
        "  \n",
        "  mean_negative = fastnp.sum(negative_without_positive, axis=1) / (batch_size-1)\n",
        "\n",
        "  loss_1 = fastnp.maximum(0.0, alpha - positive + closest_negative)\n",
        "\n",
        "  loss_2 = fastnp.maximum(0.0, alpha - positive + mean_negative)\n",
        "\n",
        "  triplet_loss = fastnp.mean(loss_1 + loss_2)\n",
        "\n",
        "  return triplet_loss;\n",
        "\n",
        "\n",
        "  "
      ],
      "execution_count": 34,
      "outputs": []
    },
    {
      "cell_type": "code",
      "metadata": {
        "id": "ogYMwehfBuzD",
        "colab": {
          "base_uri": "https://localhost:8080/"
        },
        "outputId": "034d3cf9-214f-4f84-c691-51b80f31044e"
      },
      "source": [
        "v1 = np.array([[0.26726124, 0.53452248, 0.80178373],[0.5178918 , 0.57543534, 0.63297887]])\n",
        "v2 = np.array([[ 0.26726124,  0.53452248,  0.80178373],[-0.5178918 , -0.57543534, -0.63297887]])\n",
        "TripletLossFn(v2, v1)\n",
        "print(\"Triplet Loss:\", TripletLossFn(v2, v1))"
      ],
      "execution_count": 35,
      "outputs": [
        {
          "output_type": "stream",
          "text": [
            "Triplet Loss: 0.5\n"
          ],
          "name": "stdout"
        }
      ]
    },
    {
      "cell_type": "code",
      "metadata": {
        "id": "_C3d-eh5Ya3-"
      },
      "source": [
        "from functools import partial\n",
        "def TripletLoss(alpha=0.25):\n",
        "    triplet_loss_fn = partial(TripletLossFn, alpha=alpha)\n",
        "    return tl.Fn('TripletLoss', triplet_loss_fn)"
      ],
      "execution_count": 36,
      "outputs": []
    },
    {
      "cell_type": "markdown",
      "metadata": {
        "id": "7172FTmPTeIP"
      },
      "source": [
        "# TRAINING"
      ]
    },
    {
      "cell_type": "code",
      "metadata": {
        "id": "yY8gGll7Y79Y",
        "colab": {
          "base_uri": "https://localhost:8080/"
        },
        "outputId": "bd837049-01d0-42e8-94ed-977ab09ab16d"
      },
      "source": [
        "batch_size = 128\n",
        "train_generator = batch_generator(training_Q1, training_Q2, batch_size, vocab['<PAD>'])\n",
        "val_generator = batch_generator(eval_Q1, eval_Q2, batch_size, vocab['<PAD>'])\n",
        "print('train_Q1.shape ', training_Q1.shape)\n",
        "print('val_Q1.shape   ', eval_Q1.shape)"
      ],
      "execution_count": 37,
      "outputs": [
        {
          "output_type": "stream",
          "text": [
            "train_Q1.shape  (134306,)\n",
            "val_Q1.shape    (10000,)\n"
          ],
          "name": "stdout"
        }
      ]
    },
    {
      "cell_type": "code",
      "metadata": {
        "id": "3oAl0wc-TKa0"
      },
      "source": [
        "lr_schedule = trax.lr.warmup_and_rsqrt_decay(400, 0.01)\n",
        "\n",
        "def train_model(Siamese, TripletLoss, lr_schedule, train_generator=train_generator, val_generator=val_generator, alpha=0.25, output_dir='model/'):\n",
        "  \n",
        "    output_dir = os.path.expanduser(output_dir)\n",
        "\n",
        "    \n",
        "\n",
        "    train_task = training.TrainTask(\n",
        "        labeled_data=train_generator,       \n",
        "        loss_layer=TripletLoss(alpha=alpha),        \n",
        "        optimizer=trax.optimizers.Adam(0.01),          \n",
        "        lr_schedule=lr_schedule,\n",
        "        n_steps_per_checkpoint=1000,\n",
        "    )\n",
        "\n",
        "    eval_task = training.EvalTask(\n",
        "        labeled_data=val_generator,      \n",
        "        metrics=[TripletLoss(alpha=alpha)],          \n",
        "    )\n",
        "\n",
        "\n",
        "    training_loop = training.Loop(Siamese(),\n",
        "                                  train_task,\n",
        "                                  eval_tasks=[eval_task],\n",
        "                                  output_dir=output_dir)\n",
        "\n",
        "    return training_loop"
      ],
      "execution_count": 38,
      "outputs": []
    },
    {
      "cell_type": "code",
      "metadata": {
        "id": "Oym3eX0sYn25",
        "colab": {
          "base_uri": "https://localhost:8080/"
        },
        "outputId": "6441c122-303b-4c04-88a9-b705447411ce"
      },
      "source": [
        "RETRAIN = True\n",
        "\n",
        "if RETRAIN:\n",
        "  !rm -f 'model/model.pkl.gz'\n",
        "  train_steps = 10000\n",
        "  training_loop = train_model(Siamese_model, TripletLoss, lr_schedule)\n",
        "  training_loop.run(train_steps)\n",
        "  model = training_loop.eval_model\n",
        "else:\n",
        "  model = Siamese_model()\n",
        "  model.init_from_file('model/model.pkl.gz')\n"
      ],
      "execution_count": 39,
      "outputs": [
        {
          "output_type": "stream",
          "text": [
            "\n",
            "Step      1: Total number of trainable weights: 3274496\n",
            "Step      1: Ran 1 train steps in 5.51 secs\n",
            "Step      1: train TripletLoss |  0.49999979\n",
            "Step      1: eval  TripletLoss |  0.49999970\n",
            "\n",
            "Step   1000: Ran 999 train steps in 45.78 secs\n",
            "Step   1000: train TripletLoss |  0.49999771\n",
            "Step   1000: eval  TripletLoss |  0.49999917\n",
            "\n",
            "Step   2000: Ran 1000 train steps in 40.98 secs\n",
            "Step   2000: train TripletLoss |  0.49999809\n",
            "Step   2000: eval  TripletLoss |  0.49999946\n",
            "\n",
            "Step   3000: Ran 1000 train steps in 40.91 secs\n",
            "Step   3000: train TripletLoss |  0.49999848\n",
            "Step   3000: eval  TripletLoss |  0.49999914\n",
            "\n",
            "Step   4000: Ran 1000 train steps in 40.93 secs\n",
            "Step   4000: train TripletLoss |  0.49984083\n",
            "Step   4000: eval  TripletLoss |  0.49612582\n",
            "\n",
            "Step   5000: Ran 1000 train steps in 41.18 secs\n",
            "Step   5000: train TripletLoss |  0.42963174\n",
            "Step   5000: eval  TripletLoss |  0.40847516\n",
            "\n",
            "Step   6000: Ran 1000 train steps in 41.18 secs\n",
            "Step   6000: train TripletLoss |  0.32884941\n",
            "Step   6000: eval  TripletLoss |  0.25919524\n",
            "\n",
            "Step   7000: Ran 1000 train steps in 41.13 secs\n",
            "Step   7000: train TripletLoss |  0.24376781\n",
            "Step   7000: eval  TripletLoss |  0.15335104\n",
            "\n",
            "Step   8000: Ran 1000 train steps in 40.83 secs\n",
            "Step   8000: train TripletLoss |  0.09615408\n",
            "Step   8000: eval  TripletLoss |  0.06418151\n",
            "\n",
            "Step   9000: Ran 1000 train steps in 40.97 secs\n",
            "Step   9000: train TripletLoss |  0.05195198\n",
            "Step   9000: eval  TripletLoss |  0.05787512\n",
            "\n",
            "Step  10000: Ran 1000 train steps in 40.86 secs\n",
            "Step  10000: train TripletLoss |  0.03808014\n",
            "Step  10000: eval  TripletLoss |  0.04451941\n"
          ],
          "name": "stdout"
        }
      ]
    },
    {
      "cell_type": "code",
      "metadata": {
        "id": "2w8cxS3ZEXf0"
      },
      "source": [
        "training_loop = train_model(Siamese_model, TripletLoss, lr_schedule)"
      ],
      "execution_count": 40,
      "outputs": []
    },
    {
      "cell_type": "code",
      "metadata": {
        "id": "TnWSo2iWX-zJ"
      },
      "source": [
        "# training_loop.run(10)"
      ],
      "execution_count": 41,
      "outputs": []
    },
    {
      "cell_type": "code",
      "metadata": {
        "id": "aa8OR6zgOZRU"
      },
      "source": [
        "# model = training_loop.eval_model"
      ],
      "execution_count": 42,
      "outputs": []
    },
    {
      "cell_type": "markdown",
      "metadata": {
        "id": "-zUqb5gFTmJA"
      },
      "source": [
        "# EVALUATION"
      ]
    },
    {
      "cell_type": "code",
      "metadata": {
        "id": "o9BCSLpGDF03"
      },
      "source": [
        "def classify(test_Q1, test_Q2, y, model, vocab, data_generator=batch_generator, batch_size=64, threshold=0.5):\n",
        "    accuracy = 0\n",
        "    y_pred = np.zeros_like(y)\n",
        "    index = 0\n",
        "    for i in range(0, len(test_Q1), batch_size):\n",
        "        batch_size = min(batch_size, len(test_Q1) - i)\n",
        "        \n",
        "        q1, q2 = next(data_generator(test_Q1[i:i+batch_size], test_Q2[i:i+batch_size],\n",
        "                                     batch_size, pad=vocab['<PAD>'], shuffle=False))\n",
        "       \n",
        "        y_test = y[i:i+batch_size]\n",
        "        \n",
        "        v1, v2 = model((q1, q2))\n",
        "\n",
        "        for j in range(batch_size):\n",
        "            \n",
        "            d = v1[j] @ v2[j].T\n",
        "           \n",
        "            res = d > threshold\n",
        "            y_pred[index] = res\n",
        "\n",
        "            accuracy += (res == y_test[j])\n",
        "            index += 1\n",
        "   \n",
        "    accuracy /= len(test_Q1)\n",
        "    conf_mat = confusion_matrix(y, y_pred)\n",
        "    F1_score = f1_score(y, y_pred, average='binary')\n",
        "   \n",
        "    \n",
        "    return (accuracy, conf_mat, F1_score)"
      ],
      "execution_count": 43,
      "outputs": []
    },
    {
      "cell_type": "code",
      "metadata": {
        "id": "NbpeL1RBDv7E",
        "colab": {
          "base_uri": "https://localhost:8080/"
        },
        "outputId": "8ec09e61-1bbc-45b2-ca76-47af0d0e05a6"
      },
      "source": [
        "Q1_test_ = np.concatenate([Q1_test[:500], Q1_test[-500:]])\n",
        "Q2_test_ = np.concatenate([Q2_test[:500], Q2_test[-500:]])\n",
        "y_test_ = np.concatenate([y_test[:500], y_test[-500:]])\n",
        "\n",
        "thresholds = [0.2, 0.3, 0.4, 0.5, 0.6, 0.7, 0.8]\n",
        "\n",
        "for t in thresholds:\n",
        "  acc, _, f1 = classify(Q1_test_, Q2_test_, y_test_, model, vocab, threshold=t)\n",
        "  print(t, acc, f1)"
      ],
      "execution_count": 44,
      "outputs": [
        {
          "output_type": "stream",
          "text": [
            "0.2 0.57600003 0.7005649717514124\n",
            "0.3 0.614 0.7198838896952104\n",
            "0.4 0.65400004 0.7402402402402402\n",
            "0.5 0.694 0.7601880877742946\n",
            "0.6 0.74500006 0.7880299251870324\n",
            "0.7 0.76500005 0.782608695652174\n",
            "0.8 0.72700006 0.7080213903743315\n"
          ],
          "name": "stdout"
        }
      ]
    },
    {
      "cell_type": "code",
      "metadata": {
        "id": "CJmGqgF1DF39",
        "colab": {
          "base_uri": "https://localhost:8080/"
        },
        "outputId": "2e300b4b-a662-41e5-ce35-d8d9b0a5041f"
      },
      "source": [
        "accuracy, conf_mat, F1_score = classify(Q1_test, Q2_test, y_test, model, vocab, threshold=0.6)\n",
        "print(\"Accuracy\", accuracy)\n",
        "print(\"F1_Score\", F1_score)"
      ],
      "execution_count": 45,
      "outputs": [
        {
          "output_type": "stream",
          "text": [
            "Accuracy 0.7444\n",
            "F1_Score 0.785929648241206\n"
          ],
          "name": "stdout"
        }
      ]
    },
    {
      "cell_type": "code",
      "metadata": {
        "id": "EU0fL_yE3R4B"
      },
      "source": [
        "def plot_matrix(cf_matrix):\n",
        "  group_names = ['True Neg','False Pos','False Neg','True Pos']\n",
        "  group_counts = ['{0:0.0f}'.format(value) for value in cf_matrix.flatten()]\n",
        "  group_percentages = ['{0:.2%}'.format(value) for value in cf_matrix.flatten()/np.sum(cf_matrix)]\n",
        "  labels = [str(v1) + '\\n' + str(v2) + '\\n' + str(v3) for v1, v2, v3 in zip(group_names, group_counts, group_percentages)]\n",
        "  labels = np.array(labels).reshape(2,2)\n",
        "  \n",
        "  sns.heatmap(cf_matrix, annot=labels, fmt = '', cmap='Blues')"
      ],
      "execution_count": 46,
      "outputs": []
    },
    {
      "cell_type": "code",
      "metadata": {
        "id": "GXo6vDPY5aBV",
        "colab": {
          "base_uri": "https://localhost:8080/",
          "height": 265
        },
        "outputId": "04514a22-f326-426a-bfec-9d0ccc6dbd86"
      },
      "source": [
        "plot_matrix(conf_mat)"
      ],
      "execution_count": 47,
      "outputs": [
        {
          "output_type": "display_data",
          "data": {
            "image/png": "[encoded data removed]",
            "text/plain": [
              "<Figure size 432x288 with 2 Axes>"
            ]
          },
          "metadata": {
            "tags": [],
            "needs_background": "light"
          }
        }
      ]
    },
    {
      "cell_type": "markdown",
      "metadata": {
        "id": "98WPdvWyTuPM"
      },
      "source": [
        "# TESTING"
      ]
    },
    {
      "cell_type": "code",
      "metadata": {
        "id": "MeDkMmQpDF7K"
      },
      "source": [
        "\n",
        "def predict(question1, question2, threshold, model, vocab, data_generator=batch_generator, verbose=False):\n",
        "    \n",
        "    q1 = [porter.stem(w) for w in (text_to_word_list(question1))]  \n",
        "    q2 = [porter.stem(w) for w in (text_to_word_list(question2))]\n",
        "    Q1, Q2 = [], []\n",
        "    for word in q1:  \n",
        "        Q1.append(vocab[word])\n",
        "    for word in q2:  \n",
        "        Q2.append(vocab[word])\n",
        "        \n",
        "  \n",
        "    Q1, Q2 = next(data_generator([Q1], [Q2], 1, pad = vocab['<PAD>']))\n",
        "   \n",
        "    v1, v2 = model((Q1, Q2))\n",
        "\n",
        "    d = np.dot(v1[0], v2[0].T)\n",
        "    \n",
        "    res = d > threshold\n",
        "    \n",
        "\n",
        "    \n",
        "    if(verbose):\n",
        "        print(\"Q1  = \", Q1, \"\\nQ2  = \", Q2)\n",
        "        print(\"d   = \", d)\n",
        "        print(\"res = \", res)\n",
        "\n",
        "    return res"
      ],
      "execution_count": 48,
      "outputs": []
    },
    {
      "cell_type": "code",
      "metadata": {
        "id": "k653BbhuDF-d",
        "colab": {
          "base_uri": "https://localhost:8080/"
        },
        "outputId": "8e0b0450-5185-42f0-b1db-8b911bde0367"
      },
      "source": [
        "question1 = \"When will I see you again?\"\n",
        "question2 = \"When can I see you again?\"\n",
        "\n",
        "predict(question1 , question2, 0.7, model, vocab, verbose = True)"
      ],
      "execution_count": 49,
      "outputs": [
        {
          "output_type": "stream",
          "text": [
            "Q1  =  [[ 323   64    4   37   43 2684    1    1]] \n",
            "Q2  =  [[ 323   24    4   37   43 2684    1    1]]\n",
            "d   =  0.97889924\n",
            "res =  True\n"
          ],
          "name": "stdout"
        },
        {
          "output_type": "execute_result",
          "data": {
            "text/plain": [
              "True"
            ]
          },
          "metadata": {
            "tags": []
          },
          "execution_count": 49
        }
      ]
    },
    {
      "cell_type": "code",
      "metadata": {
        "id": "kuLQpyjMJVqn",
        "outputId": "b1bd4014-1a11-45b9-943a-9a518a8a7286",
        "colab": {
          "base_uri": "https://localhost:8080/"
        }
      },
      "source": [
        "question1 = \"Where do you live?\"\n",
        "question2 = \"Where is your home?\"\n",
        "\n",
        "predict(question1 , question2, 0.7, model, vocab, verbose = True)"
      ],
      "execution_count": 53,
      "outputs": [
        {
          "output_type": "stream",
          "text": [
            "Q1  =  [[572  29  43 375]] \n",
            "Q2  =  [[572 134  45 663]]\n",
            "d   =  0.8345728\n",
            "res =  True\n"
          ],
          "name": "stdout"
        },
        {
          "output_type": "execute_result",
          "data": {
            "text/plain": [
              "True"
            ]
          },
          "metadata": {
            "tags": []
          },
          "execution_count": 53
        }
      ]
    },
    {
      "cell_type": "code",
      "metadata": {
        "id": "TVqAzFm5MCER",
        "outputId": "c0682ebf-7bc0-4692-b4de-56879f301eed",
        "colab": {
          "base_uri": "https://localhost:8080/"
        }
      },
      "source": [
        "question1 = \"Where is your University at?\"\n",
        "question2 = \"What subject are you doing your major on?\"\n",
        "\n",
        "predict(question1 , question2, 0.7, model, vocab, verbose = True)"
      ],
      "execution_count": 54,
      "outputs": [
        {
          "output_type": "stream",
          "text": [
            "Q1  =  [[572 134  45 486 116   1   1   1]] \n",
            "Q2  =  [[  13 4742   74   43   29   45  236   60]]\n",
            "d   =  0.2726935\n",
            "res =  False\n"
          ],
          "name": "stdout"
        },
        {
          "output_type": "execute_result",
          "data": {
            "text/plain": [
              "False"
            ]
          },
          "metadata": {
            "tags": []
          },
          "execution_count": 54
        }
      ]
    }
  ]
}