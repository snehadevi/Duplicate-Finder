{
  "nbformat": 4,
  "nbformat_minor": 0,
  "metadata": {
    "colab": {
      "name": "Duplicate Finder.ipynb",
      "provenance": [],
      "collapsed_sections": [],
      "toc_visible": true,
      "include_colab_link": true
    },
    "kernelspec": {
      "name": "python3",
      "display_name": "Python 3"
    },
    "accelerator": "GPU"
  },
  "cells": [
    {
      "cell_type": "markdown",
      "metadata": {
        "id": "view-in-github",
        "colab_type": "text"
      },
      "source": [
        "<a href=\"https://colab.research.google.com/github/snehadevi/Duplicate-Finder/blob/main/Duplicate_Finder.ipynb\" target=\"_parent\"><img src=\"https://colab.research.google.com/assets/colab-badge.svg\" alt=\"Open In Colab\"/></a>"
      ]
    },
    {
      "cell_type": "markdown",
      "metadata": {
        "id": "dvyzpBpcMQer"
      },
      "source": [
        "####INSTALLATION\n"
      ]
    },
    {
      "cell_type": "code",
      "metadata": {
        "id": "Pp4WSxKBc-zQ",
        "colab": {
          "base_uri": "https://localhost:8080/"
        },
        "outputId": "468689e2-fc89-45b5-cf7f-452fe41dfeaf"
      },
      "source": [
        "!pip install -q trax"
      ],
      "execution_count": null,
      "outputs": [
        {
          "output_type": "stream",
          "text": [
            "\u001b[K     |████████████████████████████████| 522kB 10.8MB/s \n",
            "\u001b[K     |████████████████████████████████| 235kB 23.1MB/s \n",
            "\u001b[K     |████████████████████████████████| 3.4MB 25.7MB/s \n",
            "\u001b[K     |████████████████████████████████| 61kB 7.3MB/s \n",
            "\u001b[K     |████████████████████████████████| 2.1MB 31.3MB/s \n",
            "\u001b[K     |████████████████████████████████| 3.9MB 29.1MB/s \n",
            "\u001b[K     |████████████████████████████████| 368kB 40.0MB/s \n",
            "\u001b[K     |████████████████████████████████| 1.2MB 37.9MB/s \n",
            "\u001b[K     |████████████████████████████████| 3.3MB 38.5MB/s \n",
            "\u001b[K     |████████████████████████████████| 870kB 34.5MB/s \n",
            "\u001b[?25h  Building wheel for sacremoses (setup.py) ... \u001b[?25l\u001b[?25hdone\n"
          ],
          "name": "stdout"
        }
      ]
    },
    {
      "cell_type": "markdown",
      "metadata": {
        "id": "Nyt5E4SoIozs"
      },
      "source": [
        "## IMPORT"
      ]
    },
    {
      "cell_type": "code",
      "metadata": {
        "id": "3A888toxMT8k"
      },
      "source": [
        "import os\n",
        "import nltk\n",
        "import trax\n",
        "from trax import layers as tl\n",
        "from trax.supervised import training\n",
        "from trax.fastmath import numpy as fastnp\n",
        "import numpy as np\n",
        "import pandas as pd\n",
        "import random as rnd\n",
        "import matplotlib.pyplot as plt\n",
        "import seaborn as sns\n",
        "import sklearn\n",
        "from sklearn.metrics import confusion_matrix, f1_score\n",
        "from nltk.corpus import stopwords \n",
        "import re\n",
        "from nltk.stem import PorterStemmer\n",
        "%matplotlib inline\n",
        "\n",
        "#from pathlib import Path\n",
        "\n",
        "\n",
        "# set random seeds\n",
        "rnd.seed(34)"
      ],
      "execution_count": null,
      "outputs": []
    },
    {
      "cell_type": "code",
      "metadata": {
        "id": "9cl49qxF2J_h",
        "colab": {
          "base_uri": "https://localhost:8080/"
        },
        "outputId": "a3f66c29-2b41-4d85-cbb1-24e8c6b57c1d"
      },
      "source": [
        "nltk.download('punkt')"
      ],
      "execution_count": null,
      "outputs": [
        {
          "output_type": "stream",
          "text": [
            "[nltk_data] Downloading package punkt to /root/nltk_data...\n",
            "[nltk_data]   Unzipping tokenizers/punkt.zip.\n"
          ],
          "name": "stdout"
        },
        {
          "output_type": "execute_result",
          "data": {
            "text/plain": [
              "True"
            ]
          },
          "metadata": {
            "tags": []
          },
          "execution_count": 3
        }
      ]
    },
    {
      "cell_type": "code",
      "metadata": {
        "id": "yV48s-w5FnbH",
        "colab": {
          "base_uri": "https://localhost:8080/"
        },
        "outputId": "7fd179a8-bb80-4390-a3e2-4ac332051251"
      },
      "source": [
        "nltk.download('stopwords')\n",
        "stop_words = set(stopwords.words('english')) "
      ],
      "execution_count": null,
      "outputs": [
        {
          "output_type": "stream",
          "text": [
            "[nltk_data] Downloading package stopwords to /root/nltk_data...\n",
            "[nltk_data]   Unzipping corpora/stopwords.zip.\n"
          ],
          "name": "stdout"
        }
      ]
    },
    {
      "cell_type": "markdown",
      "metadata": {
        "id": "e6qKSMcuT1qK"
      },
      "source": [
        "# DATA"
      ]
    },
    {
      "cell_type": "code",
      "metadata": {
        "id": "y4PaPrwniRsu",
        "colab": {
          "base_uri": "https://localhost:8080/"
        },
        "outputId": "72344097-fe41-4552-d49f-d413c5e95d00"
      },
      "source": [
        "from google.colab import drive\n",
        "drive.mount('/content/drive')"
      ],
      "execution_count": null,
      "outputs": [
        {
          "output_type": "stream",
          "text": [
            "Mounted at /content/drive\n"
          ],
          "name": "stdout"
        }
      ]
    },
    {
      "cell_type": "code",
      "metadata": {
        "id": "lsk8buocIpLX",
        "colab": {
          "base_uri": "https://localhost:8080/"
        },
        "outputId": "9ab30ffe-140e-473e-c746-2a68516109ac"
      },
      "source": [
        "%cd /content/drive/My\\ Drive/colab_data/qstn_duplicate/"
      ],
      "execution_count": null,
      "outputs": [
        {
          "output_type": "stream",
          "text": [
            "/content/drive/My Drive/colab_data/qstn_duplicate\n"
          ],
          "name": "stdout"
        }
      ]
    },
    {
      "cell_type": "code",
      "metadata": {
        "id": "E1XPbmqtTK9P",
        "colab": {
          "base_uri": "https://localhost:8080/"
        },
        "outputId": "3b547eb6-76b7-4c8f-8241-8859e6d259da"
      },
      "source": [
        "#path = Path(os.getcwd())\n",
        "data = pd.read_csv(\"questions.csv\")\n",
        "print(len(data))\n",
        "data.isnull().sum()"
      ],
      "execution_count": null,
      "outputs": [
        {
          "output_type": "stream",
          "text": [
            "404351\n"
          ],
          "name": "stdout"
        },
        {
          "output_type": "execute_result",
          "data": {
            "text/plain": [
              "id              0\n",
              "qid1            0\n",
              "qid2            0\n",
              "question1       1\n",
              "question2       2\n",
              "is_duplicate    0\n",
              "dtype: int64"
            ]
          },
          "metadata": {
            "tags": []
          },
          "execution_count": 7
        }
      ]
    },
    {
      "cell_type": "code",
      "metadata": {
        "id": "ppBuGWsxbpLP",
        "colab": {
          "base_uri": "https://localhost:8080/",
          "height": 376
        },
        "outputId": "9593ab3c-7c42-4e00-b876-4978f515bccc"
      },
      "source": [
        "data = data.dropna()\n",
        "print(len(data))\n",
        "data.head(10)"
      ],
      "execution_count": null,
      "outputs": [
        {
          "output_type": "stream",
          "text": [
            "404348\n"
          ],
          "name": "stdout"
        },
        {
          "output_type": "execute_result",
          "data": {
            "text/html": [
              "<div>\n",
              "<style scoped>\n",
              "    .dataframe tbody tr th:only-of-type {\n",
              "        vertical-align: middle;\n",
              "    }\n",
              "\n",
              "    .dataframe tbody tr th {\n",
              "        vertical-align: top;\n",
              "    }\n",
              "\n",
              "    .dataframe thead th {\n",
              "        text-align: right;\n",
              "    }\n",
              "</style>\n",
              "<table border=\"1\" class=\"dataframe\">\n",
              "  <thead>\n",
              "    <tr style=\"text-align: right;\">\n",
              "      <th></th>\n",
              "      <th>id</th>\n",
              "      <th>qid1</th>\n",
              "      <th>qid2</th>\n",
              "      <th>question1</th>\n",
              "      <th>question2</th>\n",
              "      <th>is_duplicate</th>\n",
              "    </tr>\n",
              "  </thead>\n",
              "  <tbody>\n",
              "    <tr>\n",
              "      <th>0</th>\n",
              "      <td>0</td>\n",
              "      <td>1</td>\n",
              "      <td>2</td>\n",
              "      <td>What is the step by step guide to invest in sh...</td>\n",
              "      <td>What is the step by step guide to invest in sh...</td>\n",
              "      <td>0</td>\n",
              "    </tr>\n",
              "    <tr>\n",
              "      <th>1</th>\n",
              "      <td>1</td>\n",
              "      <td>3</td>\n",
              "      <td>4</td>\n",
              "      <td>What is the story of Kohinoor (Koh-i-Noor) Dia...</td>\n",
              "      <td>What would happen if the Indian government sto...</td>\n",
              "      <td>0</td>\n",
              "    </tr>\n",
              "    <tr>\n",
              "      <th>2</th>\n",
              "      <td>2</td>\n",
              "      <td>5</td>\n",
              "      <td>6</td>\n",
              "      <td>How can I increase the speed of my internet co...</td>\n",
              "      <td>How can Internet speed be increased by hacking...</td>\n",
              "      <td>0</td>\n",
              "    </tr>\n",
              "    <tr>\n",
              "      <th>3</th>\n",
              "      <td>3</td>\n",
              "      <td>7</td>\n",
              "      <td>8</td>\n",
              "      <td>Why am I mentally very lonely? How can I solve...</td>\n",
              "      <td>Find the remainder when [math]23^{24}[/math] i...</td>\n",
              "      <td>0</td>\n",
              "    </tr>\n",
              "    <tr>\n",
              "      <th>4</th>\n",
              "      <td>4</td>\n",
              "      <td>9</td>\n",
              "      <td>10</td>\n",
              "      <td>Which one dissolve in water quikly sugar, salt...</td>\n",
              "      <td>Which fish would survive in salt water?</td>\n",
              "      <td>0</td>\n",
              "    </tr>\n",
              "    <tr>\n",
              "      <th>5</th>\n",
              "      <td>5</td>\n",
              "      <td>11</td>\n",
              "      <td>12</td>\n",
              "      <td>Astrology: I am a Capricorn Sun Cap moon and c...</td>\n",
              "      <td>I'm a triple Capricorn (Sun, Moon and ascendan...</td>\n",
              "      <td>1</td>\n",
              "    </tr>\n",
              "    <tr>\n",
              "      <th>6</th>\n",
              "      <td>6</td>\n",
              "      <td>13</td>\n",
              "      <td>14</td>\n",
              "      <td>Should I buy tiago?</td>\n",
              "      <td>What keeps childern active and far from phone ...</td>\n",
              "      <td>0</td>\n",
              "    </tr>\n",
              "    <tr>\n",
              "      <th>7</th>\n",
              "      <td>7</td>\n",
              "      <td>15</td>\n",
              "      <td>16</td>\n",
              "      <td>How can I be a good geologist?</td>\n",
              "      <td>What should I do to be a great geologist?</td>\n",
              "      <td>1</td>\n",
              "    </tr>\n",
              "    <tr>\n",
              "      <th>8</th>\n",
              "      <td>8</td>\n",
              "      <td>17</td>\n",
              "      <td>18</td>\n",
              "      <td>When do you use シ instead of し?</td>\n",
              "      <td>When do you use \"&amp;\" instead of \"and\"?</td>\n",
              "      <td>0</td>\n",
              "    </tr>\n",
              "    <tr>\n",
              "      <th>9</th>\n",
              "      <td>9</td>\n",
              "      <td>19</td>\n",
              "      <td>20</td>\n",
              "      <td>Motorola (company): Can I hack my Charter Moto...</td>\n",
              "      <td>How do I hack Motorola DCX3400 for free internet?</td>\n",
              "      <td>0</td>\n",
              "    </tr>\n",
              "  </tbody>\n",
              "</table>\n",
              "</div>"
            ],
            "text/plain": [
              "   id  qid1  ...                                          question2 is_duplicate\n",
              "0   0     1  ...  What is the step by step guide to invest in sh...            0\n",
              "1   1     3  ...  What would happen if the Indian government sto...            0\n",
              "2   2     5  ...  How can Internet speed be increased by hacking...            0\n",
              "3   3     7  ...  Find the remainder when [math]23^{24}[/math] i...            0\n",
              "4   4     9  ...            Which fish would survive in salt water?            0\n",
              "5   5    11  ...  I'm a triple Capricorn (Sun, Moon and ascendan...            1\n",
              "6   6    13  ...  What keeps childern active and far from phone ...            0\n",
              "7   7    15  ...          What should I do to be a great geologist?            1\n",
              "8   8    17  ...              When do you use \"&\" instead of \"and\"?            0\n",
              "9   9    19  ...  How do I hack Motorola DCX3400 for free internet?            0\n",
              "\n",
              "[10 rows x 6 columns]"
            ]
          },
          "metadata": {
            "tags": []
          },
          "execution_count": 8
        }
      ]
    },
    {
      "cell_type": "code",
      "metadata": {
        "id": "WiGrZJnFv1S7",
        "colab": {
          "base_uri": "https://localhost:8080/",
          "height": 221
        },
        "outputId": "0700d830-3d07-41a9-9850-0e9e0972d13c"
      },
      "source": [
        "df_pos = data.loc[(data['is_duplicate'] == 1)]\n",
        "print(len(df_pos))\n",
        "df_pos.head()"
      ],
      "execution_count": null,
      "outputs": [
        {
          "output_type": "stream",
          "text": [
            "149306\n"
          ],
          "name": "stdout"
        },
        {
          "output_type": "execute_result",
          "data": {
            "text/html": [
              "<div>\n",
              "<style scoped>\n",
              "    .dataframe tbody tr th:only-of-type {\n",
              "        vertical-align: middle;\n",
              "    }\n",
              "\n",
              "    .dataframe tbody tr th {\n",
              "        vertical-align: top;\n",
              "    }\n",
              "\n",
              "    .dataframe thead th {\n",
              "        text-align: right;\n",
              "    }\n",
              "</style>\n",
              "<table border=\"1\" class=\"dataframe\">\n",
              "  <thead>\n",
              "    <tr style=\"text-align: right;\">\n",
              "      <th></th>\n",
              "      <th>id</th>\n",
              "      <th>qid1</th>\n",
              "      <th>qid2</th>\n",
              "      <th>question1</th>\n",
              "      <th>question2</th>\n",
              "      <th>is_duplicate</th>\n",
              "    </tr>\n",
              "  </thead>\n",
              "  <tbody>\n",
              "    <tr>\n",
              "      <th>5</th>\n",
              "      <td>5</td>\n",
              "      <td>11</td>\n",
              "      <td>12</td>\n",
              "      <td>Astrology: I am a Capricorn Sun Cap moon and c...</td>\n",
              "      <td>I'm a triple Capricorn (Sun, Moon and ascendan...</td>\n",
              "      <td>1</td>\n",
              "    </tr>\n",
              "    <tr>\n",
              "      <th>7</th>\n",
              "      <td>7</td>\n",
              "      <td>15</td>\n",
              "      <td>16</td>\n",
              "      <td>How can I be a good geologist?</td>\n",
              "      <td>What should I do to be a great geologist?</td>\n",
              "      <td>1</td>\n",
              "    </tr>\n",
              "    <tr>\n",
              "      <th>11</th>\n",
              "      <td>11</td>\n",
              "      <td>23</td>\n",
              "      <td>24</td>\n",
              "      <td>How do I read and find my YouTube comments?</td>\n",
              "      <td>How can I see all my Youtube comments?</td>\n",
              "      <td>1</td>\n",
              "    </tr>\n",
              "    <tr>\n",
              "      <th>12</th>\n",
              "      <td>12</td>\n",
              "      <td>25</td>\n",
              "      <td>26</td>\n",
              "      <td>What can make Physics easy to learn?</td>\n",
              "      <td>How can you make physics easy to learn?</td>\n",
              "      <td>1</td>\n",
              "    </tr>\n",
              "    <tr>\n",
              "      <th>13</th>\n",
              "      <td>13</td>\n",
              "      <td>27</td>\n",
              "      <td>28</td>\n",
              "      <td>What was your first sexual experience like?</td>\n",
              "      <td>What was your first sexual experience?</td>\n",
              "      <td>1</td>\n",
              "    </tr>\n",
              "  </tbody>\n",
              "</table>\n",
              "</div>"
            ],
            "text/plain": [
              "    id  qid1  ...                                          question2 is_duplicate\n",
              "5    5    11  ...  I'm a triple Capricorn (Sun, Moon and ascendan...            1\n",
              "7    7    15  ...          What should I do to be a great geologist?            1\n",
              "11  11    23  ...             How can I see all my Youtube comments?            1\n",
              "12  12    25  ...            How can you make physics easy to learn?            1\n",
              "13  13    27  ...             What was your first sexual experience?            1\n",
              "\n",
              "[5 rows x 6 columns]"
            ]
          },
          "metadata": {
            "tags": []
          },
          "execution_count": 9
        }
      ]
    },
    {
      "cell_type": "code",
      "metadata": {
        "id": "qYffxJeDzFwR",
        "colab": {
          "base_uri": "https://localhost:8080/",
          "height": 221
        },
        "outputId": "443e654f-c0dd-4935-e118-be663cdaced8"
      },
      "source": [
        "df_neg = data.loc[data['is_duplicate'] == 0 ]\n",
        "print(len(df_neg))\n",
        "df_neg.head()"
      ],
      "execution_count": null,
      "outputs": [
        {
          "output_type": "stream",
          "text": [
            "255042\n"
          ],
          "name": "stdout"
        },
        {
          "output_type": "execute_result",
          "data": {
            "text/html": [
              "<div>\n",
              "<style scoped>\n",
              "    .dataframe tbody tr th:only-of-type {\n",
              "        vertical-align: middle;\n",
              "    }\n",
              "\n",
              "    .dataframe tbody tr th {\n",
              "        vertical-align: top;\n",
              "    }\n",
              "\n",
              "    .dataframe thead th {\n",
              "        text-align: right;\n",
              "    }\n",
              "</style>\n",
              "<table border=\"1\" class=\"dataframe\">\n",
              "  <thead>\n",
              "    <tr style=\"text-align: right;\">\n",
              "      <th></th>\n",
              "      <th>id</th>\n",
              "      <th>qid1</th>\n",
              "      <th>qid2</th>\n",
              "      <th>question1</th>\n",
              "      <th>question2</th>\n",
              "      <th>is_duplicate</th>\n",
              "    </tr>\n",
              "  </thead>\n",
              "  <tbody>\n",
              "    <tr>\n",
              "      <th>0</th>\n",
              "      <td>0</td>\n",
              "      <td>1</td>\n",
              "      <td>2</td>\n",
              "      <td>What is the step by step guide to invest in sh...</td>\n",
              "      <td>What is the step by step guide to invest in sh...</td>\n",
              "      <td>0</td>\n",
              "    </tr>\n",
              "    <tr>\n",
              "      <th>1</th>\n",
              "      <td>1</td>\n",
              "      <td>3</td>\n",
              "      <td>4</td>\n",
              "      <td>What is the story of Kohinoor (Koh-i-Noor) Dia...</td>\n",
              "      <td>What would happen if the Indian government sto...</td>\n",
              "      <td>0</td>\n",
              "    </tr>\n",
              "    <tr>\n",
              "      <th>2</th>\n",
              "      <td>2</td>\n",
              "      <td>5</td>\n",
              "      <td>6</td>\n",
              "      <td>How can I increase the speed of my internet co...</td>\n",
              "      <td>How can Internet speed be increased by hacking...</td>\n",
              "      <td>0</td>\n",
              "    </tr>\n",
              "    <tr>\n",
              "      <th>3</th>\n",
              "      <td>3</td>\n",
              "      <td>7</td>\n",
              "      <td>8</td>\n",
              "      <td>Why am I mentally very lonely? How can I solve...</td>\n",
              "      <td>Find the remainder when [math]23^{24}[/math] i...</td>\n",
              "      <td>0</td>\n",
              "    </tr>\n",
              "    <tr>\n",
              "      <th>4</th>\n",
              "      <td>4</td>\n",
              "      <td>9</td>\n",
              "      <td>10</td>\n",
              "      <td>Which one dissolve in water quikly sugar, salt...</td>\n",
              "      <td>Which fish would survive in salt water?</td>\n",
              "      <td>0</td>\n",
              "    </tr>\n",
              "  </tbody>\n",
              "</table>\n",
              "</div>"
            ],
            "text/plain": [
              "   id  qid1  ...                                          question2 is_duplicate\n",
              "0   0     1  ...  What is the step by step guide to invest in sh...            0\n",
              "1   1     3  ...  What would happen if the Indian government sto...            0\n",
              "2   2     5  ...  How can Internet speed be increased by hacking...            0\n",
              "3   3     7  ...  Find the remainder when [math]23^{24}[/math] i...            0\n",
              "4   4     9  ...            Which fish would survive in salt water?            0\n",
              "\n",
              "[5 rows x 6 columns]"
            ]
          },
          "metadata": {
            "tags": []
          },
          "execution_count": 10
        }
      ]
    },
    {
      "cell_type": "code",
      "metadata": {
        "id": "pWNT2h1Xj_35",
        "colab": {
          "base_uri": "https://localhost:8080/",
          "height": 238
        },
        "outputId": "3dec6f6c-7e1e-4def-d7a6-df0933ae6413"
      },
      "source": [
        "N = len(df_pos) - 5000\n",
        "train_data = df_pos[:N]\n",
        "t_data = df_pos[N:]\n",
        "test_data = pd.concat([df_neg[:len(t_data)], t_data])\n",
        "print(len(train_data))\n",
        "print(len(test_data))\n",
        "#t_data.head()\n",
        "#df_neg.head()\n",
        "test_data.head()"
      ],
      "execution_count": null,
      "outputs": [
        {
          "output_type": "stream",
          "text": [
            "144306\n",
            "10000\n"
          ],
          "name": "stdout"
        },
        {
          "output_type": "execute_result",
          "data": {
            "text/html": [
              "<div>\n",
              "<style scoped>\n",
              "    .dataframe tbody tr th:only-of-type {\n",
              "        vertical-align: middle;\n",
              "    }\n",
              "\n",
              "    .dataframe tbody tr th {\n",
              "        vertical-align: top;\n",
              "    }\n",
              "\n",
              "    .dataframe thead th {\n",
              "        text-align: right;\n",
              "    }\n",
              "</style>\n",
              "<table border=\"1\" class=\"dataframe\">\n",
              "  <thead>\n",
              "    <tr style=\"text-align: right;\">\n",
              "      <th></th>\n",
              "      <th>id</th>\n",
              "      <th>qid1</th>\n",
              "      <th>qid2</th>\n",
              "      <th>question1</th>\n",
              "      <th>question2</th>\n",
              "      <th>is_duplicate</th>\n",
              "    </tr>\n",
              "  </thead>\n",
              "  <tbody>\n",
              "    <tr>\n",
              "      <th>0</th>\n",
              "      <td>0</td>\n",
              "      <td>1</td>\n",
              "      <td>2</td>\n",
              "      <td>What is the step by step guide to invest in sh...</td>\n",
              "      <td>What is the step by step guide to invest in sh...</td>\n",
              "      <td>0</td>\n",
              "    </tr>\n",
              "    <tr>\n",
              "      <th>1</th>\n",
              "      <td>1</td>\n",
              "      <td>3</td>\n",
              "      <td>4</td>\n",
              "      <td>What is the story of Kohinoor (Koh-i-Noor) Dia...</td>\n",
              "      <td>What would happen if the Indian government sto...</td>\n",
              "      <td>0</td>\n",
              "    </tr>\n",
              "    <tr>\n",
              "      <th>2</th>\n",
              "      <td>2</td>\n",
              "      <td>5</td>\n",
              "      <td>6</td>\n",
              "      <td>How can I increase the speed of my internet co...</td>\n",
              "      <td>How can Internet speed be increased by hacking...</td>\n",
              "      <td>0</td>\n",
              "    </tr>\n",
              "    <tr>\n",
              "      <th>3</th>\n",
              "      <td>3</td>\n",
              "      <td>7</td>\n",
              "      <td>8</td>\n",
              "      <td>Why am I mentally very lonely? How can I solve...</td>\n",
              "      <td>Find the remainder when [math]23^{24}[/math] i...</td>\n",
              "      <td>0</td>\n",
              "    </tr>\n",
              "    <tr>\n",
              "      <th>4</th>\n",
              "      <td>4</td>\n",
              "      <td>9</td>\n",
              "      <td>10</td>\n",
              "      <td>Which one dissolve in water quikly sugar, salt...</td>\n",
              "      <td>Which fish would survive in salt water?</td>\n",
              "      <td>0</td>\n",
              "    </tr>\n",
              "  </tbody>\n",
              "</table>\n",
              "</div>"
            ],
            "text/plain": [
              "   id  qid1  ...                                          question2 is_duplicate\n",
              "0   0     1  ...  What is the step by step guide to invest in sh...            0\n",
              "1   1     3  ...  What would happen if the Indian government sto...            0\n",
              "2   2     5  ...  How can Internet speed be increased by hacking...            0\n",
              "3   3     7  ...  Find the remainder when [math]23^{24}[/math] i...            0\n",
              "4   4     9  ...            Which fish would survive in salt water?            0\n",
              "\n",
              "[5 rows x 6 columns]"
            ]
          },
          "metadata": {
            "tags": []
          },
          "execution_count": 11
        }
      ]
    },
    {
      "cell_type": "code",
      "metadata": {
        "id": "9TmcssHs1u8r",
        "colab": {
          "base_uri": "https://localhost:8080/"
        },
        "outputId": "7ea8fa4b-edaa-41d6-f736-a8bc59a62be8"
      },
      "source": [
        "y_test  = np.array(test_data['is_duplicate'])\n",
        "print(y_test)\n",
        "print(len(y_test))"
      ],
      "execution_count": null,
      "outputs": [
        {
          "output_type": "stream",
          "text": [
            "[0 0 0 ... 1 1 1]\n",
            "10000\n"
          ],
          "name": "stdout"
        }
      ]
    },
    {
      "cell_type": "markdown",
      "metadata": {
        "id": "Ms7GXhcmJa3-"
      },
      "source": [
        "###DATA PROCESSING"
      ]
    },
    {
      "cell_type": "code",
      "metadata": {
        "id": "qQFHMW_ZplKZ"
      },
      "source": [
        "# duplicate_indexes = (train_data['is_duplicate']==1).to_numpy()\n",
        "# print(duplicate_indexes)\n",
        "# duplicate_indexes = [i for i,x in enumerate(duplicate_indexes) if x]\n",
        "# print(duplicate_indexes)"
      ],
      "execution_count": null,
      "outputs": []
    },
    {
      "cell_type": "code",
      "metadata": {
        "id": "T3Bgurmaa7wp"
      },
      "source": [
        "# print(len(duplicate_indexes))"
      ],
      "execution_count": null,
      "outputs": []
    },
    {
      "cell_type": "code",
      "metadata": {
        "id": "RJ5zXcrLp10d"
      },
      "source": [
        "def text_to_word_list(text):\n",
        "    ''' Pre process and convert texts to a list of words '''\n",
        "    text = str(text)\n",
        "    text = text.lower()\n",
        "\n",
        "    # Clean the text\n",
        "    text = re.sub(r\"[^A-Za-z0-9^,!.\\/'+-=]\", \" \", text)\n",
        "    text = re.sub(r\"what's\", \"what is \", text)\n",
        "    text = re.sub(r\"\\'s\", \" \", text)\n",
        "    text = re.sub(r\"\\'ve\", \" have \", text)\n",
        "    text = re.sub(r\"can't\", \"cannot \", text)\n",
        "    text = re.sub(r\"n't\", \" not \", text)\n",
        "    text = re.sub(r\"i'm\", \"i am \", text)\n",
        "    text = re.sub(r\"\\'re\", \" are \", text)\n",
        "    text = re.sub(r\"\\'d\", \" would \", text)\n",
        "    text = re.sub(r\"\\'ll\", \" will \", text)\n",
        "    text = re.sub(r\",\", \" \", text)\n",
        "    text = re.sub(r\"\\.\", \" \", text)\n",
        "    text = re.sub(r\"!\", \" ! \", text)\n",
        "    text = re.sub(r\"\\/\", \" \", text)\n",
        "    text = re.sub(r\"\\^\", \" ^ \", text)\n",
        "    text = re.sub(r\"\\+\", \" + \", text)\n",
        "    text = re.sub(r\"\\-\", \" - \", text)\n",
        "    text = re.sub(r\"\\=\", \" = \", text)\n",
        "    text = re.sub(r\"'\", \" \", text)\n",
        "    text = re.sub(r\"(\\d+)(k)\", r\"\\g<1>000\", text)\n",
        "    text = re.sub(r\":\", \" : \", text)\n",
        "    text = re.sub(r\" e g \", \" eg \", text)\n",
        "    text = re.sub(r\" b g \", \" bg \", text)\n",
        "    text = re.sub(r\" u s \", \" american \", text)\n",
        "    text = re.sub(r\"\\0s\", \"0\", text)\n",
        "    text = re.sub(r\" 9 11 \", \"911\", text)\n",
        "    text = re.sub(r\"e - mail\", \"email\", text)\n",
        "    text = re.sub(r\"j k\", \"jk\", text)\n",
        "    text = re.sub(r\"\\s{2,}\", \" \", text)\n",
        "\n",
        "    text = text.split()\n",
        "\n",
        "    return text"
      ],
      "execution_count": null,
      "outputs": []
    },
    {
      "cell_type": "code",
      "metadata": {
        "id": "KGRuYiDAr803"
      },
      "source": [
        "porter = PorterStemmer()"
      ],
      "execution_count": null,
      "outputs": []
    },
    {
      "cell_type": "code",
      "metadata": {
        "id": "gBLW5DrcspF9",
        "colab": {
          "base_uri": "https://localhost:8080/"
        },
        "outputId": "6df15edf-f845-4697-967f-5370907f003f"
      },
      "source": [
        "print (text_to_word_list(train_data['question1'][5]))\n",
        "print (train_data['question2'][5])"
      ],
      "execution_count": null,
      "outputs": [
        {
          "output_type": "stream",
          "text": [
            "['astrology', ':', 'i', 'am', 'a', 'capricorn', 'sun', 'cap', 'moon', 'and', 'cap', 'rising', 'what', 'does', 'that', 'say', 'about', 'me']\n",
            "I'm a triple Capricorn (Sun, Moon and ascendant in Capricorn) What does this say about me?\n"
          ],
          "name": "stdout"
        }
      ]
    },
    {
      "cell_type": "code",
      "metadata": {
        "id": "R99zqSdK1WRq",
        "colab": {
          "base_uri": "https://localhost:8080/"
        },
        "outputId": "83e2da96-a417-4e73-cc71-76888aef243b"
      },
      "source": [
        "Q1_train_words = np.array(train_data['question1'].str.lower())\n",
        "Q2_train_words = np.array(train_data['question2'].str.lower())\n",
        "print(Q1_train_words[66424])\n",
        "print(Q2_train_words[66424])"
      ],
      "execution_count": null,
      "outputs": [
        {
          "output_type": "stream",
          "text": [
            "which countries will support india if china attacks india?\n",
            "today if china will attack on india. which country will support india in war against of china?\n"
          ],
          "name": "stdout"
        }
      ]
    },
    {
      "cell_type": "code",
      "metadata": {
        "id": "l3K7X3e2s8kd"
      },
      "source": [
        "# Q1_train_words = np.array(train_data['question1'][duplicate_indexes])\n",
        "# Q2_train_words = np.array(train_data['question2'][duplicate_indexes])\n",
        "# print(Q1_train_words[0])\n",
        "# print(Q2_train_words[0])"
      ],
      "execution_count": null,
      "outputs": []
    },
    {
      "cell_type": "code",
      "metadata": {
        "id": "gUkwpqoNt_cP",
        "colab": {
          "base_uri": "https://localhost:8080/"
        },
        "outputId": "211e39ee-c252-46e9-a17d-265bd355b966"
      },
      "source": [
        "Q1_test_words = np.array(test_data['question1'].str.lower())\n",
        "Q2_test_words = np.array(test_data['question2'].str.lower())\n",
        "print(Q1_test_words[7])\n",
        "print(Q2_test_words[7])"
      ],
      "execution_count": null,
      "outputs": [
        {
          "output_type": "stream",
          "text": [
            "motorola (company): can i hack my charter motorolla dcx3400?\n",
            "how do i hack motorola dcx3400 for free internet?\n"
          ],
          "name": "stdout"
        }
      ]
    },
    {
      "cell_type": "code",
      "metadata": {
        "id": "PdkH5ArhzfPl"
      },
      "source": [
        "Q1_train = np.empty_like(Q1_train_words)\n",
        "Q2_train = np.empty_like(Q2_train_words)\n",
        "\n",
        "Q1_test = np.empty_like(Q1_test_words)\n",
        "Q2_test = np.empty_like(Q2_test_words)"
      ],
      "execution_count": null,
      "outputs": []
    },
    {
      "cell_type": "code",
      "metadata": {
        "id": "5uBHJeHL1VpD",
        "colab": {
          "base_uri": "https://localhost:8080/"
        },
        "outputId": "267bffd6-1aab-4134-d06b-9d4f1b0e8816"
      },
      "source": [
        "\n",
        "from collections import defaultdict\n",
        "\n",
        "vocab = defaultdict(lambda: 0)\n",
        "vocab['<PAD>'] = 1\n",
        "\n",
        "for idx in range(len(Q1_train_words)):\n",
        "    Q1_train[idx] = [porter.stem(w) for w in (text_to_word_list(Q1_train_words[idx]))]\n",
        "    Q2_train[idx] = [porter.stem(w) for w in (text_to_word_list(Q2_train_words[idx]))]\n",
        "    q = Q1_train[idx] + Q2_train[idx]\n",
        "    for word in q:\n",
        "        if word not in vocab:\n",
        "            vocab[word] = len(vocab) + 1\n",
        "print('The length of the vocabulary is: ', len(vocab))\n",
        "\n",
        "#print(vocab)\n",
        "print(len(vocab))\n"
      ],
      "execution_count": null,
      "outputs": [
        {
          "output_type": "stream",
          "text": [
            "The length of the vocabulary is:  20374\n",
            "20374\n"
          ],
          "name": "stdout"
        }
      ]
    },
    {
      "cell_type": "code",
      "metadata": {
        "id": "z1zX5HVpUrAd",
        "colab": {
          "base_uri": "https://localhost:8080/"
        },
        "outputId": "32b1e9f4-f333-452e-b290-038d89b7963d"
      },
      "source": [
        "\n",
        "print(vocab['<PAD>'])\n",
        "print(vocab['astrology'])\n",
        "print(vocab['Sneha'])"
      ],
      "execution_count": null,
      "outputs": [
        {
          "output_type": "stream",
          "text": [
            "1\n",
            "0\n",
            "0\n"
          ],
          "name": "stdout"
        }
      ]
    },
    {
      "cell_type": "code",
      "metadata": {
        "id": "9WnbmFuGUOOG"
      },
      "source": [
        "for i in range(len(Q1_test_words)):\n",
        "  Q1_test[i] = [porter.stem(w) for w in (text_to_word_list(Q1_test_words[i]))]\n",
        "  #print('q1', i, Q1_test[i])\n",
        "  Q2_test[i] = [porter.stem(w) for w in (text_to_word_list(Q2_test_words[i]))]\n",
        "  #print('q2', i, Q2_test[i])"
      ],
      "execution_count": null,
      "outputs": []
    },
    {
      "cell_type": "code",
      "metadata": {
        "id": "ccODvUuVVOtM",
        "colab": {
          "base_uri": "https://localhost:8080/"
        },
        "outputId": "21f66c56-5b70-4e71-f657-0f1185ac0e17"
      },
      "source": [
        "print('Train set length: ', len(Q1_train) ) \n",
        "print('Test set length: ', len(Q1_test) ) "
      ],
      "execution_count": null,
      "outputs": [
        {
          "output_type": "stream",
          "text": [
            "Train set length:  144306\n",
            "Test set length:  10000\n"
          ],
          "name": "stdout"
        }
      ]
    },
    {
      "cell_type": "code",
      "metadata": {
        "id": "sNJjP788Uiah",
        "colab": {
          "base_uri": "https://localhost:8080/"
        },
        "outputId": "a817511d-ecb9-4b84-a04b-1058100d75db"
      },
      "source": [
        "print(Q1_train[0])\n",
        "print(Q1_test[0])"
      ],
      "execution_count": null,
      "outputs": [
        {
          "output_type": "stream",
          "text": [
            "['astrolog', ':', 'i', 'am', 'a', 'capricorn', 'sun', 'cap', 'moon', 'and', 'cap', 'rise', 'what', 'doe', 'that', 'say', 'about', 'me']\n",
            "['what', 'is', 'the', 'step', 'by', 'step', 'guid', 'to', 'invest', 'in', 'share', 'market', 'in', 'india']\n"
          ],
          "name": "stdout"
        }
      ]
    },
    {
      "cell_type": "markdown",
      "metadata": {
        "id": "07-dcZ3qSbWv"
      },
      "source": [
        "###CONVERTING INTO TENSOR"
      ]
    },
    {
      "cell_type": "code",
      "metadata": {
        "id": "Wd4BXm_M2Yr2"
      },
      "source": [
        "for i in range(len(Q1_train)):\n",
        "  Q1_train[i] = [vocab[word] for word in Q1_train[i]]\n",
        "  Q2_train[i] = [vocab[word] for word in Q2_train[i]]\n",
        "\n",
        "for i in range(len(Q1_test)):\n",
        "  Q1_test[i] = [vocab[word] for word in Q1_test[i]]\n",
        "  Q2_test[i] = [vocab[word] for word in Q2_test[i]]\n"
      ],
      "execution_count": null,
      "outputs": []
    },
    {
      "cell_type": "code",
      "metadata": {
        "id": "yHSKlCN8Wzej",
        "colab": {
          "base_uri": "https://localhost:8080/"
        },
        "outputId": "e2873f26-9103-430c-99d0-37f32de85b3b"
      },
      "source": [
        "print(Q1_train_words[0])\n",
        "print(Q1_train[0])\n",
        "print(Q1_test_words[0])\n",
        "print(Q1_test[0])\n"
      ],
      "execution_count": null,
      "outputs": [
        {
          "output_type": "stream",
          "text": [
            "astrology: i am a capricorn sun cap moon and cap rising...what does that say about me?\n",
            "[2, 3, 4, 5, 6, 7, 8, 9, 10, 11, 9, 12, 13, 14, 15, 16, 17, 18]\n",
            "what is the step by step guide to invest in share market in india?\n",
            "[13, 134, 66, 878, 88, 878, 4272, 30, 1080, 21, 880, 455, 21, 266]\n"
          ],
          "name": "stdout"
        }
      ]
    },
    {
      "cell_type": "code",
      "metadata": {
        "id": "SljtkR9lY7sO",
        "colab": {
          "base_uri": "https://localhost:8080/"
        },
        "outputId": "6c6e907e-fa92-4425-bec4-342e17d2a671"
      },
      "source": [
        "cut_point = int(len(Q1_train)*.9)\n",
        "training_Q1 = Q1_train[:-10000]\n",
        "training_Q2 = Q2_train[:-10000]\n",
        "\n",
        "eval_Q1 = Q1_train[-10000:]\n",
        "eval_Q2 = Q2_train[-10000:]\n",
        "\n",
        "print(len(training_Q1))\n",
        "print(len(eval_Q1))"
      ],
      "execution_count": null,
      "outputs": [
        {
          "output_type": "stream",
          "text": [
            "134306\n",
            "10000\n"
          ],
          "name": "stdout"
        }
      ]
    },
    {
      "cell_type": "code",
      "metadata": {
        "id": "SxZTjnYsbJLb"
      },
      "source": [
        "def batch_generator(question1, question2, batch_size, pad=1, shuffle=False):\n",
        "  batch_q1 = []\n",
        "  batch_q2 = []\n",
        "  index = 0\n",
        "  shufflable_indexes = [i for i in range(len(question1))]\n",
        "  #print(shufflable_indexes)\n",
        "\n",
        "\n",
        "  if shuffle==True:\n",
        "    rnd.shuffle(shufflable_indexes)\n",
        "  \n",
        "  while True:\n",
        "    if (index >= len(question1)):\n",
        "      index = 0\n",
        "\n",
        "      if shuffle==True:\n",
        "        rnd.shuffle(shufflable_indexes)\n",
        "          \n",
        "\n",
        "    q1 = question1[shufflable_indexes[index]]\n",
        "    q2 = question2[shufflable_indexes[index]]\n",
        "\n",
        "    # print(q1)\n",
        "    # print(q2)\n",
        "\n",
        "    index += 1\n",
        "\n",
        "    batch_q1.append(q1)\n",
        "    batch_q2.append(q2)\n",
        "\n",
        "    # print(batch_q1)\n",
        "    # print(batch_q2)\n",
        "\n",
        "    if len(batch_q1)==batch_size:\n",
        "      b_q1 = []\n",
        "      b_q2 = []\n",
        "\n",
        "      max_len = max(max([len(_) for _ in batch_q1]), max([len(_) for _ in batch_q2]))\n",
        "      max_len = 2**int(np.ceil(np.log2(max_len)))\n",
        "\n",
        "      #print(max_len)\n",
        "\n",
        "      for q1, q2 in zip(batch_q1, batch_q2):\n",
        "        q1 = q1 + (max_len-len(q1)) * [pad]\n",
        "        q2 = q2 + (max_len-len(q2)) * [pad]\n",
        "\n",
        "        b_q1.append(q1)\n",
        "        b_q2.append(q2)\n",
        "\n",
        "        # print(b_q1)\n",
        "        # print(b_q2)\n",
        "\n",
        "\n",
        "      yield np.array(b_q1),  np.array(b_q2)\n",
        "      batch_q1 = []\n",
        "      batch_q2 = []\n",
        " \n"
      ],
      "execution_count": null,
      "outputs": []
    },
    {
      "cell_type": "code",
      "metadata": {
        "id": "83_ehfz6jb72",
        "colab": {
          "base_uri": "https://localhost:8080/"
        },
        "outputId": "f6869d6b-b779-4d06-f4e0-b75fb3ca3ce1"
      },
      "source": [
        "Q1 = training_Q1[:10]\n",
        "#print(Q1)\n",
        "Q2 = training_Q2[:10]\n",
        "#print(Q2)\n",
        "question1, question2 = next(batch_generator(Q1, Q2, batch_size=2))\n",
        "print(\"Question 1:\", '\\n', question1, '\\n')\n",
        "print(\"Question 2:\", '\\n', question2)"
      ],
      "execution_count": null,
      "outputs": [
        {
          "output_type": "stream",
          "text": [
            "Question 1: \n",
            " [[ 2  3  4  5  6  7  8  9 10 11  9 12 13 14 15 16 17 18  1  1  1  1  1  1\n",
            "   1  1  1  1  1  1  1  1]\n",
            " [23 24  4 25  6 26 27  1  1  1  1  1  1  1  1  1  1  1  1  1  1  1  1  1\n",
            "   1  1  1  1  1  1  1  1]] \n",
            "\n",
            "Question 2: \n",
            " [[ 4  5  6 19  7  8 10 11 20 21  7 13 14 22 16 17 18  1  1  1  1  1  1  1\n",
            "   1  1  1  1  1  1  1  1]\n",
            " [13 28  4 29 30 25  6 31 27  1  1  1  1  1  1  1  1  1  1  1  1  1  1  1\n",
            "   1  1  1  1  1  1  1  1]]\n"
          ],
          "name": "stdout"
        }
      ]
    },
    {
      "cell_type": "markdown",
      "metadata": {
        "id": "r0Zet3VmTVFn"
      },
      "source": [
        "# MODEL"
      ]
    },
    {
      "cell_type": "code",
      "metadata": {
        "id": "vzkDNxknJOU5"
      },
      "source": [
        "def Siamese_model(vocab_size=len(vocab), d_model=128, mode='train'):\n",
        "\n",
        "  def Normalize(x):\n",
        "    return x / fastnp.sqrt(fastnp.sum(x * x, axis=-1, keepdims=True))\n",
        "\n",
        "  network = tl.Serial(\n",
        "     tl.Embedding(vocab_size, d_model),\n",
        "     tl.LSTM(d_model),\n",
        "     tl.LSTM(d_model),\n",
        "     tl.LSTM(d_model),\n",
        "     tl.Mean(axis=1),\n",
        "     tl.Fn('Normalize', lambda x: Normalize(x))\n",
        "  )\n",
        "  \n",
        "  model = tl.Parallel(network, network)\n",
        "\n",
        "  return model"
      ],
      "execution_count": null,
      "outputs": []
    },
    {
      "cell_type": "code",
      "metadata": {
        "id": "SP9XFBozQuWO",
        "colab": {
          "base_uri": "https://localhost:8080/"
        },
        "outputId": "f006ae8b-ba1b-49f5-a870-9cd0edbed9b0"
      },
      "source": [
        "model = Siamese_model()\n",
        "print(model)"
      ],
      "execution_count": null,
      "outputs": [
        {
          "output_type": "stream",
          "text": [
            "Parallel_in2_out2[\n",
            "  Serial[\n",
            "    Embedding_22498_128\n",
            "    LSTM_128\n",
            "    LSTM_128\n",
            "    LSTM_128\n",
            "    Mean\n",
            "    Normalize\n",
            "  ]\n",
            "  Serial[\n",
            "    Embedding_22498_128\n",
            "    LSTM_128\n",
            "    LSTM_128\n",
            "    LSTM_128\n",
            "    Mean\n",
            "    Normalize\n",
            "  ]\n",
            "]\n"
          ],
          "name": "stdout"
        }
      ]
    },
    {
      "cell_type": "code",
      "metadata": {
        "id": "qKEX2riWQ-Ix"
      },
      "source": [
        "def TripletLossFn(v1, v2, alpha = 0.25):\n",
        "\n",
        "  cosine_similarity = fastnp.dot(v1, v2.T)\n",
        "\n",
        "  batch_size = len(cosine_similarity)\n",
        "\n",
        "  positive = fastnp.diagonal(cosine_similarity)\n",
        "\n",
        "  negative_with_pos_to_neg = cosine_similarity - ( 2*fastnp.eye(batch_size))\n",
        "\n",
        "  negative_without_positive = cosine_similarity * (1 - fastnp.eye(batch_size))\n",
        "\n",
        "  closest_negative = negative_with_pos_to_neg.max(axis=1)\n",
        "  \n",
        "  mean_negative = fastnp.sum(negative_without_positive, axis=1) / (batch_size-1)\n",
        "\n",
        "  loss_1 = fastnp.maximum(0.0, alpha - positive + closest_negative)\n",
        "\n",
        "  loss_2 = fastnp.maximum(0.0, alpha - positive + mean_negative)\n",
        "\n",
        "  triplet_loss = fastnp.mean(loss_1 + loss_2)\n",
        "\n",
        "  return triplet_loss;\n",
        "\n",
        "\n",
        "  "
      ],
      "execution_count": null,
      "outputs": []
    },
    {
      "cell_type": "code",
      "metadata": {
        "id": "ogYMwehfBuzD",
        "colab": {
          "base_uri": "https://localhost:8080/"
        },
        "outputId": "afd0e5dd-7b87-4469-a9b3-121178e3b23f"
      },
      "source": [
        "v1 = np.array([[0.26726124, 0.53452248, 0.80178373],[0.5178918 , 0.57543534, 0.63297887]])\n",
        "v2 = np.array([[ 0.26726124,  0.53452248,  0.80178373],[-0.5178918 , -0.57543534, -0.63297887]])\n",
        "TripletLossFn(v2, v1)\n",
        "print(\"Triplet Loss:\", TripletLossFn(v2, v1))"
      ],
      "execution_count": null,
      "outputs": [
        {
          "output_type": "stream",
          "text": [
            "Triplet Loss: 0.5\n"
          ],
          "name": "stdout"
        }
      ]
    },
    {
      "cell_type": "code",
      "metadata": {
        "id": "_C3d-eh5Ya3-"
      },
      "source": [
        "from functools import partial\n",
        "def TripletLoss(alpha=0.25):\n",
        "    triplet_loss_fn = partial(TripletLossFn, alpha=alpha)\n",
        "    return tl.Fn('TripletLoss', triplet_loss_fn)"
      ],
      "execution_count": null,
      "outputs": []
    },
    {
      "cell_type": "markdown",
      "metadata": {
        "id": "7172FTmPTeIP"
      },
      "source": [
        "# TRAINING"
      ]
    },
    {
      "cell_type": "code",
      "metadata": {
        "id": "yY8gGll7Y79Y",
        "colab": {
          "base_uri": "https://localhost:8080/"
        },
        "outputId": "688169a7-51a3-4386-efe3-47542de6e4c5"
      },
      "source": [
        "batch_size = 128\n",
        "train_generator = batch_generator(training_Q1, training_Q2, batch_size, vocab['<PAD>'])\n",
        "val_generator = batch_generator(eval_Q1, eval_Q2, batch_size, vocab['<PAD>'])\n",
        "print('train_Q1.shape ', training_Q1.shape)\n",
        "print('val_Q1.shape   ', eval_Q1.shape)"
      ],
      "execution_count": null,
      "outputs": [
        {
          "output_type": "stream",
          "text": [
            "train_Q1.shape  (134306,)\n",
            "val_Q1.shape    (10000,)\n"
          ],
          "name": "stdout"
        }
      ]
    },
    {
      "cell_type": "code",
      "metadata": {
        "id": "3oAl0wc-TKa0"
      },
      "source": [
        "lr_schedule = trax.lr.warmup_and_rsqrt_decay(400, 0.01)\n",
        "\n",
        "def train_model(Siamese, TripletLoss, lr_schedule, train_generator=train_generator, val_generator=val_generator, alpha=0.5, output_dir='model/'):\n",
        "  \n",
        "    output_dir = os.path.expanduser(output_dir)\n",
        "\n",
        "    \n",
        "\n",
        "    train_task = training.TrainTask(\n",
        "        labeled_data=train_generator,       \n",
        "        loss_layer=TripletLoss(alpha=alpha),        \n",
        "        optimizer=trax.optimizers.Adam(0.01),          \n",
        "        lr_schedule=lr_schedule,\n",
        "        n_steps_per_checkpoint=1000,\n",
        "    )\n",
        "\n",
        "    eval_task = training.EvalTask(\n",
        "        labeled_data=val_generator,      \n",
        "        metrics=[TripletLoss(alpha=alpha)],          \n",
        "    )\n",
        "\n",
        "\n",
        "    training_loop = training.Loop(Siamese(),\n",
        "                                  train_task,\n",
        "                                  eval_tasks=[eval_task],\n",
        "                                  output_dir=output_dir)\n",
        "\n",
        "    return training_loop"
      ],
      "execution_count": null,
      "outputs": []
    },
    {
      "cell_type": "code",
      "metadata": {
        "id": "Oym3eX0sYn25",
        "colab": {
          "base_uri": "https://localhost:8080/"
        },
        "outputId": "9c1e2ceb-2818-442c-8913-cc1ae46d8b0a"
      },
      "source": [
        "RETRAIN = True\n",
        "\n",
        "if RETRAIN:\n",
        "  !rm -f 'model/model.pkl.gz'\n",
        "  train_steps = 10000\n",
        "  training_loop = train_model(Siamese_model, TripletLoss, lr_schedule)\n",
        "  training_loop.run(train_steps)\n",
        "  model = training_loop.eval_model\n",
        "else:\n",
        "  model = Siamese_model()\n",
        "  model.init_from_file('model/model.pkl.gz')\n"
      ],
      "execution_count": null,
      "outputs": [
        {
          "output_type": "stream",
          "text": [
            "\n",
            "Step      1: Total number of trainable weights: 3274496\n",
            "Step      1: Ran 1 train steps in 6.89 secs\n",
            "Step      1: train TripletLoss |  1.00000024\n",
            "Step      1: eval  TripletLoss |  1.00000024\n",
            "\n",
            "Step   1000: Ran 999 train steps in 104.18 secs\n",
            "Step   1000: train TripletLoss |  0.99999791\n",
            "Step   1000: eval  TripletLoss |  0.99999130\n",
            "\n",
            "Step   2000: Ran 1000 train steps in 98.94 secs\n",
            "Step   2000: train TripletLoss |  0.99999911\n",
            "Step   2000: eval  TripletLoss |  1.00000000\n",
            "\n",
            "Step   3000: Ran 1000 train steps in 98.44 secs\n",
            "Step   3000: train TripletLoss |  0.99999940\n",
            "Step   3000: eval  TripletLoss |  1.00000024\n",
            "\n",
            "Step   4000: Ran 1000 train steps in 98.50 secs\n",
            "Step   4000: train TripletLoss |  1.00000000\n",
            "Step   4000: eval  TripletLoss |  0.99999905\n",
            "\n",
            "Step   5000: Ran 1000 train steps in 98.74 secs\n",
            "Step   5000: train TripletLoss |  0.79368746\n",
            "Step   5000: eval  TripletLoss |  0.55190355\n",
            "\n",
            "Step   6000: Ran 1000 train steps in 98.57 secs\n",
            "Step   6000: train TripletLoss |  0.54597896\n",
            "Step   6000: eval  TripletLoss |  0.53373742\n",
            "\n",
            "Step   7000: Ran 1000 train steps in 98.99 secs\n",
            "Step   7000: train TripletLoss |  0.44322741\n",
            "Step   7000: eval  TripletLoss |  0.34063554\n",
            "\n",
            "Step   8000: Ran 1000 train steps in 99.33 secs\n",
            "Step   8000: train TripletLoss |  0.21791270\n",
            "Step   8000: eval  TripletLoss |  0.18235382\n",
            "\n",
            "Step   9000: Ran 1000 train steps in 98.94 secs\n",
            "Step   9000: train TripletLoss |  0.15085977\n",
            "Step   9000: eval  TripletLoss |  0.17716116\n",
            "\n",
            "Step  10000: Ran 1000 train steps in 99.32 secs\n",
            "Step  10000: train TripletLoss |  0.12190846\n",
            "Step  10000: eval  TripletLoss |  0.07091141\n"
          ],
          "name": "stdout"
        }
      ]
    },
    {
      "cell_type": "code",
      "metadata": {
        "id": "TnWSo2iWX-zJ",
        "colab": {
          "base_uri": "https://localhost:8080/"
        },
        "outputId": "9e414ddc-5a43-4004-d126-294297a7070c"
      },
      "source": [
        "training_loop.run(5000)"
      ],
      "execution_count": null,
      "outputs": [
        {
          "output_type": "stream",
          "text": [
            "\n",
            "Step  11000: Ran 1000 train steps in 99.42 secs\n",
            "Step  11000: train TripletLoss |  0.10523438\n",
            "Step  11000: eval  TripletLoss |  0.10459924\n",
            "\n",
            "Step  12000: Ran 1000 train steps in 99.27 secs\n",
            "Step  12000: train TripletLoss |  0.09320096\n",
            "Step  12000: eval  TripletLoss |  0.14965734\n",
            "\n",
            "Step  13000: Ran 1000 train steps in 99.35 secs\n",
            "Step  13000: train TripletLoss |  0.08366504\n",
            "Step  13000: eval  TripletLoss |  0.07143490\n",
            "\n",
            "Step  14000: Ran 1000 train steps in 100.24 secs\n",
            "Step  14000: train TripletLoss |  0.07797909\n",
            "Step  14000: eval  TripletLoss |  0.11529610\n",
            "\n",
            "Step  15000: Ran 1000 train steps in 99.55 secs\n",
            "Step  15000: train TripletLoss |  0.07205663\n",
            "Step  15000: eval  TripletLoss |  0.11246186\n"
          ],
          "name": "stdout"
        }
      ]
    },
    {
      "cell_type": "code",
      "metadata": {
        "colab": {
          "base_uri": "https://localhost:8080/"
        },
        "id": "UkPlNTV9259B",
        "outputId": "e99c888a-61a7-4730-ad2c-607782a1fe62"
      },
      "source": [
        "# Running multiple times for a desired model\n",
        "training_loop.run(1000)"
      ],
      "execution_count": null,
      "outputs": [
        {
          "output_type": "stream",
          "text": [
            "\n",
            "Step  21000: Ran 1000 train steps in 99.10 secs\n",
            "Step  21000: train TripletLoss |  0.05250106\n",
            "Step  21000: eval  TripletLoss |  0.07198194\n"
          ],
          "name": "stdout"
        }
      ]
    },
    {
      "cell_type": "code",
      "metadata": {
        "id": "aa8OR6zgOZRU"
      },
      "source": [
        "model = training_loop.eval_model"
      ],
      "execution_count": null,
      "outputs": []
    },
    {
      "cell_type": "markdown",
      "metadata": {
        "id": "-zUqb5gFTmJA"
      },
      "source": [
        "# EVALUATION"
      ]
    },
    {
      "cell_type": "code",
      "metadata": {
        "id": "o9BCSLpGDF03"
      },
      "source": [
        "def classify(test_Q1, test_Q2, y, model, vocab, data_generator=batch_generator, batch_size=64, threshold=0.5):\n",
        "    accuracy = 0\n",
        "    y_pred = np.zeros_like(y)\n",
        "    index = 0\n",
        "    for i in range(0, len(test_Q1), batch_size):\n",
        "        batch_size = min(batch_size, len(test_Q1) - i)\n",
        "        \n",
        "        q1, q2 = next(data_generator(test_Q1[i:i+batch_size], test_Q2[i:i+batch_size],\n",
        "                                     batch_size, pad=vocab['<PAD>'], shuffle=False))\n",
        "       \n",
        "        y_test = y[i:i+batch_size]\n",
        "        \n",
        "        v1, v2 = model((q1, q2))\n",
        "\n",
        "        for j in range(batch_size):\n",
        "            \n",
        "            d = v1[j] @ v2[j].T\n",
        "           \n",
        "            res = d > threshold\n",
        "            y_pred[index] = res\n",
        "\n",
        "            accuracy += (res == y_test[j])\n",
        "            index += 1\n",
        "   \n",
        "    accuracy /= len(test_Q1)\n",
        "    conf_mat = confusion_matrix(y, y_pred)\n",
        "    F1_score = f1_score(y, y_pred, average='binary')\n",
        "   \n",
        "    \n",
        "    return (accuracy, conf_mat, F1_score)"
      ],
      "execution_count": null,
      "outputs": []
    },
    {
      "cell_type": "code",
      "metadata": {
        "id": "NbpeL1RBDv7E",
        "colab": {
          "base_uri": "https://localhost:8080/"
        },
        "outputId": "f7de87d8-f4e8-40f7-86e2-feae8c70e21e"
      },
      "source": [
        "Q1_test_ = np.concatenate([Q1_test[:500], Q1_test[-500:]])\n",
        "Q2_test_ = np.concatenate([Q2_test[:500], Q2_test[-500:]])\n",
        "y_test_ = np.concatenate([y_test[:500], y_test[-500:]])\n",
        "\n",
        "thresholds = [0.3, 0.4, 0.5, 0.6, 0.7, 0.8]\n",
        "\n",
        "for t in thresholds:\n",
        "  acc, _, f1 = classify(Q1_test_, Q2_test_, y_test_, model, vocab, threshold=t)\n",
        "  print(f'Threshold: {t}  Acc: {acc:.2%}  F1: {f1:.2%}')"
      ],
      "execution_count": null,
      "outputs": [
        {
          "output_type": "stream",
          "text": [
            "Threshold: 0.3  Acc: 64.70%  F1: 73.68%\n",
            "Threshold: 0.4  Acc: 69.20%  F1: 76.23%\n",
            "Threshold: 0.5  Acc: 72.70%  F1: 78.00%\n",
            "Threshold: 0.6  Acc: 76.10%  F1: 79.69%\n",
            "Threshold: 0.7  Acc: 79.10%  F1: 80.91%\n",
            "Threshold: 0.8  Acc: 79.10%  F1: 78.99%\n"
          ],
          "name": "stdout"
        }
      ]
    },
    {
      "cell_type": "code",
      "metadata": {
        "id": "CJmGqgF1DF39",
        "colab": {
          "base_uri": "https://localhost:8080/"
        },
        "outputId": "5fabc09d-a893-46a4-f2ff-a961620efd67"
      },
      "source": [
        "accuracy, conf_mat, F1_score = classify(Q1_test, Q2_test, y_test, model, vocab, threshold=0.7)\n",
        "print(f\"Accuracy: {accuracy:.2%}\")\n",
        "print(f\"F1 Score: {F1_score:.2%}\")"
      ],
      "execution_count": null,
      "outputs": [
        {
          "output_type": "stream",
          "text": [
            "Accuracy: 79.44%\n",
            "F1 Score: 81.26%\n"
          ],
          "name": "stdout"
        }
      ]
    },
    {
      "cell_type": "code",
      "metadata": {
        "id": "EU0fL_yE3R4B"
      },
      "source": [
        "def plot_matrix(cf_matrix):\n",
        "  group_names = ['True Neg','False Pos','False Neg','True Pos']\n",
        "  group_counts = ['{0:0.0f}'.format(value) for value in cf_matrix.flatten()]\n",
        "  group_percentages = ['{0:.2%}'.format(value) for value in cf_matrix.flatten()/np.sum(cf_matrix)]\n",
        "  labels = [str(v1) + '\\n' + str(v2) + '\\n' + str(v3) for v1, v2, v3 in zip(group_names, group_counts, group_percentages)]\n",
        "  labels = np.array(labels).reshape(2,2)\n",
        "  \n",
        "  sns.heatmap(cf_matrix, annot=labels, fmt = '', cmap='Blues')"
      ],
      "execution_count": null,
      "outputs": []
    },
    {
      "cell_type": "code",
      "metadata": {
        "colab": {
          "base_uri": "https://localhost:8080/",
          "height": 265
        },
        "id": "Q1Yz29SX9v2t",
        "outputId": "3f7fbfb5-2534-4a66-fa7a-669cd694ba85"
      },
      "source": [
        "plot_matrix(conf_mat)"
      ],
      "execution_count": null,
      "outputs": [
        {
          "output_type": "display_data",
          "data": {
            "image/png": "[encoded data removed]",
            "text/plain": [
              "<Figure size 432x288 with 2 Axes>"
            ]
          },
          "metadata": {
            "tags": [],
            "needs_background": "light"
          }
        }
      ]
    },
    {
      "cell_type": "markdown",
      "metadata": {
        "id": "98WPdvWyTuPM"
      },
      "source": [
        "# TESTING"
      ]
    },
    {
      "cell_type": "code",
      "metadata": {
        "id": "MeDkMmQpDF7K"
      },
      "source": [
        "from bisect import bisect_left\n",
        "\n",
        "def predict(question1, question2, threshold=0.7, model=model, vocab=vocab,\n",
        "            data_generator=batch_generator, verbose=False):\n",
        "    \n",
        "    q1 = [porter.stem(w) for w in (text_to_word_list(question1))]  \n",
        "    q2 = [porter.stem(w) for w in (text_to_word_list(question2))]\n",
        "    Q1, Q2 = [], []\n",
        "    for word in q1:  \n",
        "        Q1.append(vocab[word])\n",
        "    for word in q2:  \n",
        "        Q2.append(vocab[word])\n",
        "        \n",
        "  \n",
        "    Q1, Q2 = next(data_generator([Q1], [Q2], 1, pad = vocab['<PAD>']))\n",
        "   \n",
        "    v1, v2 = model((Q1, Q2))\n",
        "\n",
        "    d = np.dot(v1[0], v2[0].T)\n",
        "    \n",
        "    res = d > threshold\n",
        "    \n",
        "\n",
        "    \n",
        "    if(verbose):\n",
        "        t = threshold\n",
        "        confidence = ['High', 'Moderate', 'Low', 'Low', 'Moderate', 'High']\n",
        "        dividers = [-1 + (1+t)*0.65, -1 + (1+t)*0.9, t,\n",
        "                    t + (1-t)*0.1, t + (1-t)*0.35, 1]\n",
        "        print(\"Cosine Similarity = {0:.2f}\".format(d))\n",
        "        print(\"Prediction = \", 'Duplicate' if res == True else 'Not Duplicate')\n",
        "        print('Confidence = ', confidence[bisect_left(dividers, d)])\n",
        "\n",
        "    return res"
      ],
      "execution_count": null,
      "outputs": []
    },
    {
      "cell_type": "code",
      "metadata": {
        "id": "k653BbhuDF-d",
        "colab": {
          "base_uri": "https://localhost:8080/"
        },
        "outputId": "4fb79884-328b-4c80-ec0f-faea14bff356"
      },
      "source": [
        "question1 = \"When will I see you again?\"\n",
        "question2 = \"When can I see you again?\"\n",
        "\n",
        "_ = predict(question1 , question2, verbose = True)"
      ],
      "execution_count": null,
      "outputs": [
        {
          "output_type": "stream",
          "text": [
            "Cosine Similarity = 0.87\n",
            "Prediction =  Duplicate\n",
            "Confidence =  Moderate\n"
          ],
          "name": "stdout"
        }
      ]
    },
    {
      "cell_type": "code",
      "metadata": {
        "colab": {
          "base_uri": "https://localhost:8080/"
        },
        "id": "kuLQpyjMJVqn",
        "outputId": "7cb1162e-e726-4ab1-fc48-1f20921f0942"
      },
      "source": [
        "question1 = \"Where do you live?\"\n",
        "question2 = \"Where is your home?\"\n",
        "\n",
        "_ = predict(question1 , question2, verbose = True)"
      ],
      "execution_count": null,
      "outputs": [
        {
          "output_type": "stream",
          "text": [
            "Cosine Similarity = 0.53\n",
            "Prediction =  Not Duplicate\n",
            "Confidence =  Low\n"
          ],
          "name": "stdout"
        }
      ]
    },
    {
      "cell_type": "code",
      "metadata": {
        "colab": {
          "base_uri": "https://localhost:8080/"
        },
        "id": "TVqAzFm5MCER",
        "outputId": "9ce1e325-a655-4642-df18-50f620794748"
      },
      "source": [
        "question1 = \"Where is your University at?\"\n",
        "question2 = \"What subject are you doing your major on?\"\n",
        "\n",
        "_ = predict(question1 , question2, verbose = True)"
      ],
      "execution_count": null,
      "outputs": [
        {
          "output_type": "stream",
          "text": [
            "Cosine Similarity = 0.04\n",
            "Prediction =  Not Duplicate\n",
            "Confidence =  High\n"
          ],
          "name": "stdout"
        }
      ]
    },
    {
      "cell_type": "code",
      "metadata": {
        "id": "4MEAG_kGKqq3",
        "colab": {
          "base_uri": "https://localhost:8080/"
        },
        "outputId": "83e8e33e-eab2-41ea-d99e-29ebbc1d3062"
      },
      "source": [
        "question1 = \"How are you?\"\n",
        "question2 = \"Where are you?\"\n",
        "\n",
        "_ = predict(question1 , question2, verbose = True)"
      ],
      "execution_count": null,
      "outputs": [
        {
          "output_type": "stream",
          "text": [
            "Cosine Similarity = 0.54\n",
            "Prediction =  Not Duplicate\n",
            "Confidence =  Low\n"
          ],
          "name": "stdout"
        }
      ]
    },
    {
      "cell_type": "code",
      "metadata": {
        "id": "7L98KdgAM1pT",
        "colab": {
          "base_uri": "https://localhost:8080/"
        },
        "outputId": "23428366-2a64-4413-d9a8-f517472cf4ad"
      },
      "source": [
        "question1 = \"What is the meaning of life?\"\n",
        "question2 = \"Should we care about society?\"\n",
        "\n",
        "_ = predict(question1 , question2, verbose = True)"
      ],
      "execution_count": null,
      "outputs": [
        {
          "output_type": "stream",
          "text": [
            "Cosine Similarity = 0.06\n",
            "Prediction =  Not Duplicate\n",
            "Confidence =  High\n"
          ],
          "name": "stdout"
        }
      ]
    },
    {
      "cell_type": "code",
      "metadata": {
        "id": "OfUvRISfOBbr",
        "colab": {
          "base_uri": "https://localhost:8080/"
        },
        "outputId": "40abec07-603d-4177-f63c-5bebfc1a03e4"
      },
      "source": [
        "question1 = \"Why do we die?\"\n",
        "question2 = \"Would it be good to live forever?\"\n",
        "\n",
        "_ = predict(question1 , question2, verbose = True)"
      ],
      "execution_count": null,
      "outputs": [
        {
          "output_type": "stream",
          "text": [
            "Cosine Similarity = 0.00\n",
            "Prediction =  Not Duplicate\n",
            "Confidence =  High\n"
          ],
          "name": "stdout"
        }
      ]
    }
  ]
}